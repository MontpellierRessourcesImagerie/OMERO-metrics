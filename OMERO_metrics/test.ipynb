{
 "cells": [
  {
   "metadata": {
    "ExecuteTime": {
     "end_time": "2024-06-28T12:59:54.788072Z",
     "start_time": "2024-06-28T12:59:54.391999Z"
    }
   },
   "cell_type": "code",
   "source": "from omero.gateway import BlitzGateway",
   "id": "14b60ecacfc90cf4",
   "outputs": [],
   "execution_count": 1
  },
  {
   "metadata": {
    "ExecuteTime": {
     "end_time": "2024-06-28T13:08:08.600988Z",
     "start_time": "2024-06-28T13:08:08.594842Z"
    }
   },
   "cell_type": "code",
   "source": "",
   "id": "f83959f3bd7718a0",
   "outputs": [],
   "execution_count": 21
  },
  {
   "metadata": {
    "ExecuteTime": {
     "end_time": "2024-06-28T13:01:37.335325Z",
     "start_time": "2024-06-28T13:01:37.215540Z"
    }
   },
   "cell_type": "code",
   "source": [
    "conn = BlitzGateway('root', 'omero', host='localhost', port=6064, secure=True)\n",
    "conn.connect()"
   ],
   "id": "c53da95c7d153198",
   "outputs": [
    {
     "data": {
      "text/plain": [
       "True"
      ]
     },
     "execution_count": 14,
     "metadata": {},
     "output_type": "execute_result"
    }
   ],
   "execution_count": 14
  },
  {
   "metadata": {
    "ExecuteTime": {
     "end_time": "2024-06-28T13:03:09.558250Z",
     "start_time": "2024-06-28T13:03:09.526157Z"
    }
   },
   "cell_type": "code",
   "source": [
    "conn.SERVICE_OPTS.setOmeroGroup(-1)\n",
    "im = conn.getObject('Image', 2)"
   ],
   "id": "3f75f6981f49b9e7",
   "outputs": [],
   "execution_count": 19
  },
  {
   "metadata": {
    "ExecuteTime": {
     "end_time": "2024-06-28T13:03:10.279133Z",
     "start_time": "2024-06-28T13:03:10.271840Z"
    }
   },
   "cell_type": "code",
   "source": "type(im)",
   "id": "949db00a302d0b6f",
   "outputs": [
    {
     "data": {
      "text/plain": [
       "omero.gateway._ImageWrapper"
      ]
     },
     "execution_count": 20,
     "metadata": {},
     "output_type": "execute_result"
    }
   ],
   "execution_count": 20
  },
  {
   "metadata": {
    "ExecuteTime": {
     "end_time": "2024-06-28T13:08:15.795408Z",
     "start_time": "2024-06-28T13:08:15.787722Z"
    }
   },
   "cell_type": "code",
   "source": "isinstance(im, ImageWrapper)",
   "id": "86161957b83081a2",
   "outputs": [
    {
     "data": {
      "text/plain": [
       "True"
      ]
     },
     "execution_count": 22,
     "metadata": {},
     "output_type": "execute_result"
    }
   ],
   "execution_count": 22
  },
  {
   "metadata": {
    "ExecuteTime": {
     "end_time": "2024-06-28T13:34:51.259152Z",
     "start_time": "2024-06-28T13:34:51.253236Z"
    }
   },
   "cell_type": "code",
   "source": "from ",
   "id": "ee09ec120066aa65",
   "outputs": [
    {
     "ename": "SyntaxError",
     "evalue": "invalid syntax (157569979.py, line 1)",
     "output_type": "error",
     "traceback": [
      "\u001B[0;36m  Cell \u001B[0;32mIn[28], line 1\u001B[0;36m\u001B[0m\n\u001B[0;31m    from ../test import test\u001B[0m\n\u001B[0m           ^\u001B[0m\n\u001B[0;31mSyntaxError\u001B[0m\u001B[0;31m:\u001B[0m invalid syntax\n"
     ]
    }
   ],
   "execution_count": 28
  },
  {
   "metadata": {},
   "cell_type": "code",
   "outputs": [],
   "execution_count": null,
   "source": "",
   "id": "d5136159c819573e"
  }
 ],
 "metadata": {
  "kernelspec": {
   "display_name": "Python 3",
   "language": "python",
   "name": "python3"
  },
  "language_info": {
   "codemirror_mode": {
    "name": "ipython",
    "version": 2
   },
   "file_extension": ".py",
   "mimetype": "text/x-python",
   "name": "python",
   "nbconvert_exporter": "python",
   "pygments_lexer": "ipython2",
   "version": "2.7.6"
  }
 },
 "nbformat": 4,
 "nbformat_minor": 5
}
