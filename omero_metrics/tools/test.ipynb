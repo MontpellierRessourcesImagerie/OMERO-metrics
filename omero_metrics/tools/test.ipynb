{
 "cells": [
  {
   "cell_type": "code",
   "metadata": {
    "ExecuteTime": {
     "end_time": "2024-05-07T08:41:30.494258Z",
     "start_time": "2024-05-07T08:41:29.737787Z"
    }
   },
   "source": [
    "from omero.gateway import BlitzGateway\n",
    "from data_preperation import *"
   ],
   "outputs": [],
   "execution_count": 1
  },
  {
   "cell_type": "code",
   "metadata": {
    "ExecuteTime": {
     "end_time": "2024-05-07T08:41:31.360260Z",
     "start_time": "2024-05-07T08:41:30.905Z"
    }
   },
   "source": [
    "import logging\n",
    "\n",
    "import numpy as np\n",
    "from omero.gateway import BlitzGateway, DatasetWrapper, ImageWrapper, ProjectWrapper, FileAnnotationWrapper\n",
    "import microscopemetrics_schema.datamodel as mm_schema\n",
    "from linkml_runtime.loaders import yaml_loader\n",
    "\n",
    "from omero_metrics.tools import omero_tools\n",
    "\n",
    "\n"
   ],
   "outputs": [],
   "execution_count": 2
  },
  {
   "cell_type": "code",
   "metadata": {
    "ExecuteTime": {
     "end_time": "2024-05-06T14:52:27.026355Z",
     "start_time": "2024-05-06T14:52:27.022231Z"
    }
   },
   "source": [],
   "outputs": [],
   "execution_count": 65
  },
  {
   "cell_type": "code",
   "metadata": {
    "ExecuteTime": {
     "end_time": "2024-05-07T08:41:32.574445Z",
     "start_time": "2024-05-07T08:41:32.396883Z"
    }
   },
   "source": [
    "conn = BlitzGateway(\"Asterix\", \"abc123\",group='IGH-Z3', host=\"localhost\", port=6064, secure=True)\n",
    "conn.connect()"
   ],
   "outputs": [
    {
     "data": {
      "text/plain": [
       "True"
      ]
     },
     "execution_count": 3,
     "metadata": {},
     "output_type": "execute_result"
    }
   ],
   "execution_count": 3
  },
  {
   "cell_type": "code",
   "execution_count": null,
   "metadata": {},
   "outputs": [],
   "source": [
    "user = conn.getUser()\n",
    "print(\"Current user:\")\n",
    "print(\"   ID:\", user.getId())\n",
    "print(\"   Username:\", user.getName())\n",
    "print(\"   Full Name:\", user.getFullName())\n",
    "\n",
    "# Check if you are an Administrator\n",
    "print(\"   Is Admin:\", conn.isAdmin())\n",
    "if not conn.isFullAdmin():\n",
    "    # If 'Restricted Administrator' show privileges\n",
    "    print(conn.getCurrentAdminPrivileges())\n",
    "\n",
    "print(\"Member of:\")\n",
    "for g in conn.getGroupsMemberOf():\n",
    "    print(\"   ID:\", g.getName(), \" Name:\", g.getId())\n",
    "group = conn.getGroupFromContext()\n",
    "print(\"Current group: \", group.getName())\n",
    "\n",
    "# List the group owners and other members\n",
    "owners, members = group.groupSummary()\n",
    "print(\"   Group owners:\")\n",
    "for o in owners:\n",
    "    print(\"     ID: %s %s Name: %s\" % (\n",
    "        o.getId(), o.getOmeName(), o.getFullName()))\n",
    "print(\"   Group members:\")\n",
    "for m in members:\n",
    "    print(\"     ID: %s %s Name: %s\" % (\n",
    "        m.getId(), m.getOmeName(), m.getFullName()))\n",
    "\n",
    "print(\"Owner of:\")\n",
    "for g in conn.listOwnedGroups():\n",
    "    print(\"   ID: \", g.getName(), \" Name:\", g.getId())\n",
    "\n",
    "# Added in OMERO 5.0\n",
    "print(\"Admins:\")\n",
    "for exp in conn.getAdministrators():\n",
    "    print(\"   ID: %s %s Name: %s\" % (\n",
    "        exp.getId(), exp.getOmeName(), exp.getFullName()))\n",
    "\n",
    "# The 'context' of our current session\n",
    "ctx = conn.getEventContext()\n",
    "# print(ctx)     # for more info"
   ]
  },
  {
   "cell_type": "code",
   "execution_count": null,
   "metadata": {},
   "outputs": [],
   "source": [
    "for group in conn.listOwnedGroups():\n",
    "    owners, members = group.groupSummary()\n",
    "    print(\"   Group owners:\")\n",
    "    for o in owners:\n",
    "        print(\"     ID: %s %s Name: %s\" % (\n",
    "            o.getId(), o.getOmeName(), o.getFullName()))\n",
    "    print(\"   Group members:\")\n",
    "    for m in members:\n",
    "        print(\"     ID: %s %s Name: %s\" % (\n",
    "            m.getId(), m.getOmeName(), m.getFullName()))"
   ]
  },
  {
   "cell_type": "code",
   "execution_count": null,
   "metadata": {},
   "outputs": [],
   "source": [
    "roi_ids = [r.getId().getValue() for r in result.rois]"
   ]
  },
  {
   "cell_type": "code",
   "execution_count": null,
   "metadata": {},
   "outputs": [],
   "source": [
    "image = conn.getObject(\"Image\", 1)"
   ]
  },
  {
   "cell_type": "code",
   "execution_count": null,
   "metadata": {},
   "outputs": [],
   "source": [
    "image"
   ]
  },
  {
   "cell_type": "code",
   "execution_count": null,
   "metadata": {},
   "outputs": [],
   "source": [
    "dataset = image.getParent()"
   ]
  },
  {
   "cell_type": "code",
   "execution_count": null,
   "metadata": {},
   "outputs": [],
   "source": [
    "analysis_type = get_analysis_type(image.getParent().getParent())"
   ]
  },
  {
   "cell_type": "code",
   "execution_count": null,
   "metadata": {},
   "outputs": [],
   "source": [
    "analysis_type"
   ]
  },
  {
   "cell_type": "code",
   "execution_count": null,
   "metadata": {},
   "outputs": [],
   "source": [
    "roi_service = conn.getRoiService()\n",
    "result = roi_service.findByImage(int(3), None, conn.SERVICE_OPTS)\n",
    "shapes_rectangle, shapes_line = get_rois_omero(result)\n",
    "df_lines_omero = get_info_roi_lines(shapes_line)"
   ]
  },
  {
   "cell_type": "code",
   "execution_count": null,
   "metadata": {},
   "outputs": [],
   "source": [
    "for i in conn.listOwnedGroups():\n",
    "    print(f'------------------------------{i.getName()}----------------------------------')\n",
    "    conn.SERVICE_OPTS.setOmeroGroup(i.getId())\n",
    "    for project in conn.getObjects(\"Project\"):\n",
    "        print(project.getName(), project.getId())"
   ]
  },
  {
   "cell_type": "code",
   "execution_count": null,
   "metadata": {},
   "outputs": [],
   "source": [
    "\n",
    "shapes_line = {}\n",
    "shapes_rectangle = {}\n",
    "for roi in result.rois:\n",
    "    for s in roi.copyShapes():\n",
    "        shape = {}\n",
    "        shape[\"id\"] = s.getId().getValue()\n",
    "        if s.getTextValue():\n",
    "            shape[\"textValue\"] = s.getTextValue().getValue()\n",
    "        if s.__class__.__name__ == \"RectangleI\":\n",
    "            shape[\"type\"] = \"Rectangle\"\n",
    "            shape[\"x\"] = s.getX().getValue()\n",
    "            shape[\"y\"] = s.getY().getValue()\n",
    "            shape[\"w\"] = s.getWidth().getValue()\n",
    "            shape[\"h\"] = s.getHeight().getValue()\n",
    "            shapes_rectangle[s.getId().getValue()] = shape\n",
    "        elif s.__class__.__name__ == \"LineI\":\n",
    "            shape[\"type\"] = \"Line\"\n",
    "            shape[\"x1\"] = s.getX1().getValue()\n",
    "            shape[\"x2\"] = s.getX2().getValue()\n",
    "            shape[\"y1\"] = s.getY1().getValue()\n",
    "            shape[\"y2\"] = s.getY2().getValue()\n",
    "            shapes_line[s.getId().getValue()] = shape\n",
    "        elif s.__class__.__name__ == \"PolygonI\":\n",
    "            continue\n"
   ]
  },
  {
   "cell_type": "code",
   "execution_count": null,
   "metadata": {},
   "outputs": [],
   "source": [
    "g = conn.listProjects()"
   ]
  },
  {
   "cell_type": "code",
   "execution_count": null,
   "metadata": {},
   "outputs": [],
   "source": [
    "for project in conn.getObjects(\"Project\", opts={'group': 4}):\n",
    "    print(project.getName(), project.getId())"
   ]
  },
  {
   "cell_type": "code",
   "execution_count": null,
   "metadata": {},
   "outputs": [],
   "source": [
    "def get_data_ids(conn):\n",
    "    for i in conn.listOwnedGroups():\n",
    "        conn.SERVICE_OPTS.setOmeroGroup(i.getId())\n",
    "        for project in conn.getObjects(\"Project\"):\n",
    "            print(project.getName(), project.getId())"
   ]
  },
  {
   "cell_type": "code",
   "execution_count": null,
   "metadata": {},
   "outputs": [],
   "source": [
    "conn.SERVICE_OPTS.setOmeroGroup(-1)\n",
    "for image in conn.getObjects(\"Image\"):\n",
    "    print(image.getName(), image.getId())"
   ]
  },
  {
   "cell_type": "code",
   "execution_count": null,
   "metadata": {},
   "outputs": [],
   "source": [
    "dataset_4 = conn.getObject(\"Dataset\", 52)\n",
    "dataset_6 = conn.getObject(\"Dataset\", 6)\n"
   ]
  },
  {
   "cell_type": "code",
   "execution_count": null,
   "metadata": {},
   "outputs": [],
   "source": [
    "dataset_4.getAnnotation()"
   ]
  },
  {
   "cell_type": "code",
   "execution_count": null,
   "metadata": {},
   "outputs": [],
   "source": [
    "dataset_4.getAnnotationCounts()"
   ]
  },
  {
   "cell_type": "code",
   "execution_count": null,
   "metadata": {},
   "outputs": [],
   "source": [
    "an= conn.getObject(\"MapAnnotation\", 6)\n"
   ]
  },
  {
   "cell_type": "code",
   "execution_count": null,
   "metadata": {},
   "outputs": [],
   "source": [
    "ann = dataset_4.getAnnotation()\n",
    "print(\"Found Annotation with namespace: \", ann.getNs())"
   ]
  },
  {
   "cell_type": "code",
   "execution_count": null,
   "metadata": {},
   "outputs": [],
   "source": [
    "ann = dataset_4.getAnnotation()\n",
    "print(\"Found Annotation with namespace: \", ann.getNs())"
   ]
  },
  {
   "cell_type": "code",
   "execution_count": null,
   "metadata": {},
   "outputs": [],
   "source": [
    "def get_dataset_ids_lists(conn, project_id):\n",
    "    \"\"\"\n",
    "    Get the processed and unprocessed dataset ids for a project\n",
    "    \"\"\"\n",
    "    processed_datasets = []\n",
    "    unprocessed_datasets = []\n",
    "    project = conn.getObject(\"Project\", project_id)\n",
    "    for dataset in project.listChildren():\n",
    "        try:\n",
    "            dataset.getAnnotation().getNs()\n",
    "            processed_datasets.append(dataset.getId())\n",
    "        except AttributeError:\n",
    "            unprocessed_datasets.append(dataset.getId())\n",
    "    return processed_datasets, unprocessed_datasets"
   ]
  },
  {
   "cell_type": "code",
   "execution_count": null,
   "metadata": {},
   "outputs": [],
   "source": [
    "l, n = get_dataset_ids_lists(conn, 3)"
   ]
  },
  {
   "cell_type": "code",
   "execution_count": null,
   "metadata": {},
   "outputs": [],
   "source": [
    "cxt = {'processed_datasets': l, 'unprocessed_datasets': n}"
   ]
  },
  {
   "cell_type": "code",
   "execution_count": null,
   "metadata": {},
   "outputs": [],
   "source": [
    "cxt[\"processed_datasets\"]"
   ]
  },
  {
   "cell_type": "code",
   "execution_count": null,
   "metadata": {},
   "outputs": [],
   "source": [
    "def get_map_annotation(dataset_wrapper, conn):\n",
    "    df = None\n",
    "    for i in dataset_wrapper.listAnnotations():\n",
    "        if i.__class__.__name__ == \"MapAnnotationWrapper\":\n",
    "            keyPairs = conn.getObject(\"MapAnnotation\", i.getId())\n",
    "            table = dict(keyPairs.getValue())\n",
    "            df = pd.DataFrame(table.items(), columns=[\"Key\", \"Value\"])\n",
    "    return df\n"
   ]
  },
  {
   "cell_type": "code",
   "execution_count": null,
   "metadata": {},
   "outputs": [],
   "source": [
    "def get_dataset_mapAnnotation(conn, dataset_id):\n",
    "    \"\"\"\n",
    "    Get the mapAnnotation for a dataset\n",
    "    \"\"\"\n",
    "    dataset = conn.getObject(\"Dataset\", dataset_id)\n",
    "    try:\n",
    "        for i in dataset.listAnnotations():\n",
    "            if \"FieldIlluminationKeyValues\" in i.getNs():\n",
    "                table = dict(i.getValue())\n",
    "                df = pd.DataFrame(table.items(), columns=[\"Key\", \"Value\"])\n",
    "                break\n",
    "        return df\n",
    "    except:\n",
    "        return None"
   ]
  },
  {
   "cell_type": "code",
   "execution_count": null,
   "metadata": {},
   "outputs": [],
   "source": [
    "get_dataset_mapAnnotation(conn, 52)"
   ]
  },
  {
   "cell_type": "code",
   "execution_count": null,
   "metadata": {},
   "outputs": [],
   "source": [
    "for i in dataset_4.listAnnotations():\n",
    "    print(i.getNs.getValue())"
   ]
  },
  {
   "cell_type": "code",
   "execution_count": null,
   "metadata": {},
   "outputs": [],
   "source": [
    "import pandas as pd"
   ]
  },
  {
   "cell_type": "code",
   "execution_count": null,
   "metadata": {},
   "outputs": [],
   "source": [
    "a = np.arange(12).reshape(3, 4)\n",
    "np.fliplr(a).diagonal()  # Horizontal flip\n"
   ]
  },
  {
   "cell_type": "code",
   "execution_count": null,
   "metadata": {},
   "outputs": [],
   "source": [
    "import numpy as np"
   ]
  },
  {
   "cell_type": "code",
   "execution_count": null,
   "metadata": {},
   "outputs": [],
   "source": [
    "np.fliprl(a).diagonal()  # Vertical flip\n"
   ]
  },
  {
   "cell_type": "code",
   "execution_count": null,
   "metadata": {},
   "outputs": [],
   "source": [
    "b = np.flip(a, axis=1)\n",
    "print(b[:,-1])\n",
    "print(b[:,0])\n",
    "print(np.fliplr(b).diagonal())\n",
    "print(np.fliplr(a).diagonal())"
   ]
  },
  {
   "cell_type": "code",
   "execution_count": null,
   "metadata": {},
   "outputs": [],
   "source": [
    "np.fliplr(b).diagonal()"
   ]
  },
  {
   "cell_type": "code",
   "execution_count": null,
   "metadata": {},
   "outputs": [],
   "source": [
    "b[:,-1]"
   ]
  },
  {
   "cell_type": "code",
   "execution_count": null,
   "metadata": {},
   "outputs": [],
   "source": [
    "b"
   ]
  },
  {
   "cell_type": "code",
   "execution_count": null,
   "metadata": {},
   "outputs": [],
   "source": [
    "from .load import *"
   ]
  },
  {
   "cell_type": "code",
   "execution_count": null,
   "metadata": {},
   "outputs": [],
   "source": [
    "df_X"
   ]
  },
  {
   "cell_type": "code",
   "execution_count": null,
   "metadata": {},
   "outputs": [],
   "source": [
    "def get_table_originalFile_id(conn,file_id):\n",
    "    ctx = conn.createServiceOptsDict()\n",
    "    ctx.setOmeroGroup(\"-1\")\n",
    "    r = conn.getSharedResources()\n",
    "    t = r.openTable(omero.model.OriginalFileI(file_id), ctx)   \n",
    "    data_buffer = collections.defaultdict(list)\n",
    "    heads = t.getHeaders()\n",
    "    target_cols = range(len(heads))\n",
    "    index_buffer = []\n",
    "    num_rows = t.getNumberOfRows()\n",
    "    for start in range(0, num_rows):\n",
    "        data = t.read(target_cols, start, start)\n",
    "        for col in data.columns:\n",
    "            data_buffer[col.name] += col.values\n",
    "        index_buffer += data.rowNumbers\n",
    "    df = pd.DataFrame.from_dict(data_buffer)\n",
    "    df.index = index_buffer[0: len(df)]\n",
    "    return df"
   ]
  },
  {
   "cell_type": "code",
   "execution_count": null,
   "metadata": {},
   "outputs": [],
   "source": [
    "df_X = get_table_originalFile_id(conn,121)\n",
    "df_Y = get_table_originalFile_id(conn,120)\n",
    "df_Z = get_table_originalFile_id(conn,119)\n",
    "df_P = get_table_originalFile_id(conn,118)"
   ]
  },
  {
   "cell_type": "code",
   "execution_count": null,
   "metadata": {},
   "outputs": [],
   "source": [
    "df_P"
   ]
  },
  {
   "cell_type": "code",
   "execution_count": null,
   "metadata": {},
   "outputs": [],
   "source": [
    "df_meta = pd.DataFrame(data=[[int(col.split(\"_\")[-2]), int(col.split(\"_\")[-4]), col.split(\"_\")[-1], col] for col in df_X.columns], columns=['bead_nb', 'channel_nb', 'type', 'name'])"
   ]
  },
  {
   "cell_type": "code",
   "execution_count": null,
   "metadata": {},
   "outputs": [],
   "source": [
    "for col in df_X.columns:\n",
    "    s = df_X[col]"
   ]
  },
  {
   "cell_type": "code",
   "execution_count": null,
   "metadata": {},
   "outputs": [],
   "source": [
    "df = df_X.copy()"
   ]
  },
  {
   "cell_type": "code",
   "execution_count": null,
   "metadata": {},
   "outputs": [],
   "source": [
    "df_meta"
   ]
  },
  {
   "cell_type": "code",
   "execution_count": null,
   "metadata": {},
   "outputs": [],
   "source": [
    "b ='PSF-beads_60x_2021-03-01_ch_00_bead_00_raw'.split('_')"
   ]
  },
  {
   "cell_type": "code",
   "execution_count": null,
   "metadata": {},
   "outputs": [],
   "source": [
    "df_X"
   ]
  },
  {
   "cell_type": "code",
   "execution_count": null,
   "metadata": {},
   "outputs": [],
   "source": [
    "\n",
    "def get_rois_omero(result):\n",
    "    shapes_line = {}\n",
    "    shapes_rectangle = {}\n",
    "    shapes_point = {}\n",
    "    for roi in result.rois:\n",
    "        for s in roi.copyShapes():\n",
    "            shape = {}\n",
    "            shape[\"id\"] = s.getId().getValue()\n",
    "           # shape[\"theT\"] = s.getTheT().getValue()\n",
    "           # shape[\"theZ\"] = s.getTheZ().getValue()\n",
    "            if s.getTextValue():\n",
    "                shape[\"textValue\"] = s.getTextValue().getValue()\n",
    "            if s.__class__.__name__ == \"RectangleI\":\n",
    "                shape[\"type\"] = \"Rectangle\"\n",
    "                shape[\"x\"] = s.getX().getValue()\n",
    "                shape[\"y\"] = s.getY().getValue()\n",
    "                shape[\"w\"] = s.getWidth().getValue()\n",
    "                shape[\"h\"] = s.getHeight().getValue()\n",
    "                shapes_rectangle[s.getId().getValue()] = shape\n",
    "            elif s.__class__.__name__ == \"LineI\":\n",
    "                shape[\"type\"] = \"Line\"\n",
    "                shape[\"x1\"] = s.getX1().getValue()\n",
    "                shape[\"x2\"] = s.getX2().getValue()\n",
    "                shape[\"y1\"] = s.getY1().getValue()\n",
    "                shape[\"y2\"] = s.getY2().getValue()\n",
    "                \n",
    "                shapes_line[s.getId().getValue()] = shape\n",
    "            elif s.__class__.__name__ == \"PointI\":\n",
    "                shape['type'] = 'Point'\n",
    "                shape['x'] = s.getX().getValue()\n",
    "                shape['y'] = s.getY().getValue()\n",
    "                shape['z'] = s.getTheZ().getValue()\n",
    "                shape['channel'] = s.getTheC().getValue()\n",
    "                shapes_point[s.getId().getValue()] = shape\n",
    "            elif s.__class__.__name__ == \"PolygonI\":\n",
    "                continue\n",
    "    return shapes_rectangle, shapes_line, shapes_point\n",
    "\n"
   ]
  },
  {
   "cell_type": "code",
   "execution_count": null,
   "metadata": {},
   "outputs": [],
   "source": [
    "get_rois_omero()"
   ]
  },
  {
   "cell_type": "code",
   "execution_count": null,
   "metadata": {},
   "outputs": [],
   "source": [
    "roi_service = conn.getRoiService()\n",
    "result = roi_service.findByImage(int(20), None, conn.SERVICE_OPTS)\n",
    "shapes_rectangle, shapes_line, shapes_point = get_rois_omero(result)\n",
    "df_points_omero = get_info_roi_points(shapes_point)"
   ]
  },
  {
   "cell_type": "code",
   "execution_count": null,
   "metadata": {},
   "outputs": [],
   "source": [
    "df_points_omero.groupby('Z').count().idxmax().ROI"
   ]
  },
  {
   "cell_type": "code",
   "execution_count": null,
   "metadata": {},
   "outputs": [],
   "source": [
    "df_g"
   ]
  },
  {
   "cell_type": "code",
   "execution_count": null,
   "metadata": {},
   "outputs": [],
   "source": [
    "df_points_omero"
   ]
  },
  {
   "cell_type": "code",
   "execution_count": null,
   "metadata": {},
   "outputs": [],
   "source": [
    "def get_info_roi_points(shape_dict):\n",
    "    data = [\n",
    "        [key, int(value[\"x\"]), int(value[\"y\"]),int(value[\"z\"]), int(value[\"channel\"]) ]\n",
    "        for key, value in shape_dict.items()\n",
    "    ]\n",
    "    df = pd.DataFrame(data, columns=[\"ROI\", \"X\", \"Y\", \"Z\", 'C'])\n",
    "    return df"
   ]
  },
  {
   "metadata": {
    "ExecuteTime": {
     "end_time": "2024-05-06T13:39:02.752665Z",
     "start_time": "2024-05-06T13:39:02.710257Z"
    }
   },
   "cell_type": "code",
   "source": [
    "dataset3 = conn.getObject(\"Dataset\", 3).getParent().getId()\n",
    "dataset3"
   ],
   "outputs": [
    {
     "ename": "AttributeError",
     "evalue": "'NoneType' object has no attribute 'getParent'",
     "output_type": "error",
     "traceback": [
      "\u001B[0;31m---------------------------------------------------------------------------\u001B[0m",
      "\u001B[0;31mAttributeError\u001B[0m                            Traceback (most recent call last)",
      "Cell \u001B[0;32mIn[50], line 1\u001B[0m\n\u001B[0;32m----> 1\u001B[0m dataset3 \u001B[38;5;241m=\u001B[39m \u001B[43mconn\u001B[49m\u001B[38;5;241;43m.\u001B[39;49m\u001B[43mgetObject\u001B[49m\u001B[43m(\u001B[49m\u001B[38;5;124;43m\"\u001B[39;49m\u001B[38;5;124;43mDataset\u001B[39;49m\u001B[38;5;124;43m\"\u001B[39;49m\u001B[43m,\u001B[49m\u001B[43m \u001B[49m\u001B[38;5;241;43m3\u001B[39;49m\u001B[43m)\u001B[49m\u001B[38;5;241;43m.\u001B[39;49m\u001B[43mgetParent\u001B[49m()\u001B[38;5;241m.\u001B[39mgetId()\n\u001B[1;32m      2\u001B[0m dataset3\n",
      "\u001B[0;31mAttributeError\u001B[0m: 'NoneType' object has no attribute 'getParent'"
     ]
    }
   ],
   "execution_count": 50
  },
  {
   "cell_type": "code",
   "metadata": {
    "ExecuteTime": {
     "end_time": "2024-05-07T08:42:24.857131Z",
     "start_time": "2024-05-07T08:42:24.584971Z"
    }
   },
   "source": "coll = load_project(conn, 1)",
   "outputs": [],
   "execution_count": 5
  },
  {
   "cell_type": "code",
   "metadata": {
    "ExecuteTime": {
     "end_time": "2024-05-07T08:42:10.217810Z",
     "start_time": "2024-05-07T08:42:10.209825Z"
    }
   },
   "source": [
    "from load import load_project"
   ],
   "outputs": [],
   "execution_count": 4
  },
  {
   "cell_type": "code",
   "execution_count": null,
   "metadata": {},
   "outputs": [],
   "source": [
    "for i in coll['datasets']:\n",
    "    #i['processed']\n",
    "    #i['data_reference'][\"omero_object_id\"]\n",
    "    #i['data_reference'][\"omero_object_type\"]\n",
    "    #i['input][\"field_illumination_image\"]['data_reference'][\"omero_object_id\"]\n",
    "    print(i['output']['intensity_profiles'][0]['data_reference'][\"omero_object_id\"])\n",
    "    print(i['output']['key_values'])"
   ]
  },
  {
   "cell_type": "code",
   "execution_count": null,
   "metadata": {},
   "outputs": [],
   "source": [
    "data_reference:\n",
    "  data_uri: https://localhost:6064/webclient/?show=image-69\n",
    "  omero_host: localhost\n",
    "  omero_port: 6064\n",
    "  omero_object_type: IMAGE\n",
    "  omero_object_id: 69"
   ]
  },
  {
   "cell_type": "code",
   "execution_count": null,
   "metadata": {},
   "outputs": [],
   "source": [
    "print(f\"conn.getGroupFromContext(): {conn.getGroupFromContext().getId()}\")\n",
    "print(f\"conn.SERVICE_OPTS.getOmeroGroup(): {conn.SERVICE_OPTS.getOmeroGroup()}\")\n",
    " "
   ]
  },
  {
   "cell_type": "code",
   "execution_count": 165,
   "metadata": {},
   "outputs": [],
   "source": [
    "import microscopemetrics_schema.datamodel as mm_schema\n",
    "\n"
   ]
  },
  {
   "cell_type": "code",
   "execution_count": null,
   "metadata": {},
   "outputs": [],
   "source": [
    "for i in conn.listGroups():\n",
    "    print(i.getId())"
   ]
  },
  {
   "cell_type": "code",
   "metadata": {
    "ExecuteTime": {
     "end_time": "2024-05-06T10:20:25.483755Z",
     "start_time": "2024-05-06T10:20:25.476816Z"
    }
   },
   "source": [
    "def get_project_data(collections: mm_schema.MetricsDatasetCollection) -> pd.DataFrame:\n",
    "    data = []\n",
    "    for dataset in collections.datasets:\n",
    "        data.append([dataset.__class__.__name__, dataset.data_reference.omero_object_type, dataset.data_reference.omero_object_id, dataset.processed, dataset.acquisition_datetime])\n",
    "    df = pd.DataFrame(data, columns=[\"Analysis_type\", \"Omero_object_type\", \"Omero_object_id\", \"Processed\", \"Acquisition_datetime\"])\n",
    "    return df"
   ],
   "outputs": [],
   "execution_count": 9
  },
  {
   "cell_type": "code",
   "metadata": {
    "ExecuteTime": {
     "end_time": "2024-05-06T10:20:26.677170Z",
     "start_time": "2024-05-06T10:20:26.664925Z"
    }
   },
   "source": [
    "df = get_project_data(coll)\n",
    "df['Omero_object_type'][0]"
   ],
   "outputs": [
    {
     "data": {
      "text/plain": [
       "(text='DATASET', description='A dataset')"
      ]
     },
     "execution_count": 10,
     "metadata": {},
     "output_type": "execute_result"
    }
   ],
   "execution_count": 10
  },
  {
   "cell_type": "code",
   "execution_count": null,
   "metadata": {},
   "outputs": [],
   "source": [
    "for i in coll.datasets:\n",
    "    print(type(i.data_reference.omero_object_type))"
   ]
  },
  {
   "cell_type": "code",
   "metadata": {
    "ExecuteTime": {
     "end_time": "2024-05-06T10:20:34.825690Z",
     "start_time": "2024-05-06T10:20:34.819119Z"
    }
   },
   "source": [
    "def get_dataset_data(collections: mm_schema.MetricsDatasetCollection, dataset_id) -> mm_schema.MetricsDataset:\n",
    "    try:\n",
    "        dataset = [i for i in collections.datasets if i.data_reference.omero_object_id == dataset_id][0]\n",
    "        return dataset\n",
    "    except:\n",
    "        return None\n"
   ],
   "outputs": [],
   "execution_count": 12
  },
  {
   "cell_type": "code",
   "metadata": {
    "ExecuteTime": {
     "end_time": "2024-05-06T10:20:36.027958Z",
     "start_time": "2024-05-06T10:20:36.022576Z"
    }
   },
   "source": [
    "b = get_dataset_data(coll, 59)"
   ],
   "outputs": [],
   "execution_count": 13
  },
  {
   "metadata": {
    "ExecuteTime": {
     "end_time": "2024-05-06T10:45:07.955755Z",
     "start_time": "2024-05-06T10:45:07.949264Z"
    }
   },
   "cell_type": "code",
   "source": "b.processed",
   "outputs": [
    {
     "data": {
      "text/plain": [
       "True"
      ]
     },
     "execution_count": 24,
     "metadata": {},
     "output_type": "execute_result"
    }
   ],
   "execution_count": 24
  },
  {
   "cell_type": "code",
   "execution_count": null,
   "metadata": {},
   "outputs": [],
   "source": [
    "def get_dataset_data_dash(dataset: mm_schema.MetricsDataset) -> pd.DataFrame:\n",
    "    if dataset.processed:\n",
    "        "
   ]
  },
  {
   "cell_type": "code",
   "metadata": {
    "ExecuteTime": {
     "end_time": "2024-05-06T10:20:43.244976Z",
     "start_time": "2024-05-06T10:20:43.237748Z"
    }
   },
   "source": [
    "def get_images_intensity_profilers(dataset: mm_schema.MetricsDataset) -> pd.DataFrame:\n",
    "    data=[]\n",
    "    for i,j in zip(dataset.input['field_illumination_image'],dataset.output[\"intensity_profiles\"]):\n",
    "        data.append([i['data_reference']['omero_object_id'], j['data_reference']['omero_object_id'], i['shape_c']])\n",
    "    df = pd.DataFrame(data, columns=[\"Field_illumination_image\", \"Intensity_profiles\", \"Channel\"])\n",
    "    return df"
   ],
   "outputs": [],
   "execution_count": 15
  },
  {
   "cell_type": "code",
   "execution_count": null,
   "metadata": {},
   "outputs": [],
   "source": [
    "for i in b.output[\"intensity_profiles\"]:\n",
    "    print()"
   ]
  },
  {
   "cell_type": "code",
   "metadata": {
    "ExecuteTime": {
     "end_time": "2024-05-06T10:20:48.053587Z",
     "start_time": "2024-05-06T10:20:48.047145Z"
    }
   },
   "source": [
    "b1 = get_images_intensity_profilers(b)"
   ],
   "outputs": [],
   "execution_count": 17
  },
  {
   "cell_type": "code",
   "execution_count": 172,
   "metadata": {},
   "outputs": [],
   "source": [
    "image_77 = conn.getObject(\"Image\", 77)\n",
    "image_76 = conn.getObject(\"Image\", 76)\n",
    "image_75 = conn.getObject(\"Image\", 75)"
   ]
  },
  {
   "cell_type": "code",
   "metadata": {
    "ExecuteTime": {
     "end_time": "2024-05-06T12:22:53.206029Z",
     "start_time": "2024-05-06T12:22:53.200609Z"
    }
   },
   "source": [
    "from load import load_image"
   ],
   "outputs": [],
   "execution_count": 34
  },
  {
   "cell_type": "code",
   "execution_count": 174,
   "metadata": {},
   "outputs": [],
   "source": [
    "image_77_na = load_image(image_77)\n",
    "image_76_na = load_image(image_76)\n",
    "image_75_na = load_image(image_75)\n"
   ]
  },
  {
   "cell_type": "code",
   "execution_count": null,
   "metadata": {},
   "outputs": [],
   "source": [
    "image_77_na.shape"
   ]
  },
  {
   "cell_type": "code",
   "execution_count": null,
   "metadata": {},
   "outputs": [],
   "source": [
    "np.insert(image_77_na, image_76_na, axis=4)"
   ]
  },
  {
   "cell_type": "code",
   "execution_count": null,
   "metadata": {},
   "outputs": [],
   "source": [
    "import numpy as np\n",
    "\n",
    "# Assuming array1 has shape (1, 1, 512, 812, 2) and array2 has shape (1, 1, 512, 812, 1)\n",
    "array2_padded = np.pad(image_75_na, ((0, 0), (0, 0), (0, 0), (0, 0), (0, 1)), 'constant')\n",
    "\n",
    "\n",
    "# Now array2_padded has shape (1, 1, 512, 812, 2), and you can add the two arrays together\n",
    "result = image_77_na + array2_padded"
   ]
  },
  {
   "cell_type": "code",
   "execution_count": null,
   "metadata": {},
   "outputs": [],
   "source": [
    "result.shape"
   ]
  },
  {
   "cell_type": "code",
   "metadata": {
    "ExecuteTime": {
     "end_time": "2024-05-06T12:22:56.287528Z",
     "start_time": "2024-05-06T12:22:56.280216Z"
    }
   },
   "source": [
    "def test(conn, df):\n",
    "    image_0 = conn.getObject('Image',df['Field_illumination_image'][0])\n",
    "    image_array_0 = load_image(image_0)\n",
    "    result = image_array_0\n",
    "    for i in range(1, len(df)):\n",
    "        image = conn.getObject('Image', df['Field_illumination_image'][i])\n",
    "        image_array = load_image(image)\n",
    "        result = np.concatenate((result,image_array), axis=-1)\n",
    "    return result\n",
    "    "
   ],
   "outputs": [],
   "execution_count": 35
  },
  {
   "cell_type": "code",
   "metadata": {
    "ExecuteTime": {
     "end_time": "2024-05-06T12:22:57.573938Z",
     "start_time": "2024-05-06T12:22:56.935236Z"
    }
   },
   "source": [
    "images = test(conn, b1 )"
   ],
   "outputs": [],
   "execution_count": 36
  },
  {
   "metadata": {
    "ExecuteTime": {
     "end_time": "2024-05-06T12:22:58.892312Z",
     "start_time": "2024-05-06T12:22:58.886325Z"
    }
   },
   "cell_type": "code",
   "source": "images.shape",
   "outputs": [
    {
     "data": {
      "text/plain": [
       "(1, 1, 512, 812, 4)"
      ]
     },
     "execution_count": 37,
     "metadata": {},
     "output_type": "execute_result"
    }
   ],
   "execution_count": 37
  },
  {
   "cell_type": "code",
   "execution_count": null,
   "metadata": {},
   "outputs": [],
   "source": [
    "result = np.concatenate((image_77_na, image_76_na), axis=-1)\n"
   ]
  },
  {
   "cell_type": "code",
   "execution_count": 177,
   "metadata": {},
   "outputs": [
    {
     "data": {
      "text/plain": [
       "(1, 1, 512, 812, 4)"
      ]
     },
     "execution_count": 177,
     "metadata": {},
     "output_type": "execute_result"
    }
   ],
   "source": [
    "images.shape"
   ]
  },
  {
   "cell_type": "code",
   "execution_count": null,
   "metadata": {},
   "outputs": [],
   "source": [
    "def get_intensity_profilers(conn, df):\n",
    "    \n",
    "        \n",
    "    "
   ]
  },
  {
   "metadata": {},
   "cell_type": "code",
   "outputs": [],
   "execution_count": null,
   "source": ""
  },
  {
   "cell_type": "code",
   "execution_count": 194,
   "metadata": {},
   "outputs": [
    {
     "name": "stdout",
     "output_type": "stream",
     "text": [
      "     ch00_leftTop_to_rightBottom  ch00_leftBottom_to_rightTop  \\\n",
      "0                        31893.0                      35632.0   \n",
      "1                        31956.0                      35567.0   \n",
      "2                        32085.0                      35748.0   \n",
      "3                        32193.0                      35937.0   \n",
      "4                        32329.0                      35923.0   \n",
      "..                           ...                          ...   \n",
      "250                          0.0                          0.0   \n",
      "251                          0.0                          0.0   \n",
      "252                          0.0                          0.0   \n",
      "253                          0.0                          0.0   \n",
      "254                          0.0                          0.0   \n",
      "\n",
      "     ch00_center_horizontal  ch00_center_vertical  \n",
      "0                   36745.0               33667.0  \n",
      "1                   36915.0               33747.0  \n",
      "2                   36961.0               33831.0  \n",
      "3                   36987.0               34008.0  \n",
      "4                   37158.0               34162.0  \n",
      "..                      ...                   ...  \n",
      "250                     0.0               37961.0  \n",
      "251                     0.0               37772.0  \n",
      "252                     0.0               37891.0  \n",
      "253                     0.0               37884.0  \n",
      "254                     0.0               37644.0  \n",
      "\n",
      "[255 rows x 4 columns]\n",
      "     ch00_leftTop_to_rightBottom  ch00_leftBottom_to_rightTop  \\\n",
      "0                        20130.0                      35287.0   \n",
      "1                        20227.0                      35322.0   \n",
      "2                        20290.0                      35406.0   \n",
      "3                        20450.0                      35558.0   \n",
      "4                        20564.0                      35714.0   \n",
      "..                           ...                          ...   \n",
      "250                          0.0                          0.0   \n",
      "251                          0.0                          0.0   \n",
      "252                          0.0                          0.0   \n",
      "253                          0.0                          0.0   \n",
      "254                          0.0                          0.0   \n",
      "\n",
      "     ch00_center_horizontal  ch00_center_vertical  \n",
      "0                   29774.0               23066.0  \n",
      "1                   29900.0               23260.0  \n",
      "2                   30123.0               23106.0  \n",
      "3                   30160.0               23379.0  \n",
      "4                   30356.0               23526.0  \n",
      "..                      ...                   ...  \n",
      "250                     0.0               40668.0  \n",
      "251                     0.0               40695.0  \n",
      "252                     0.0               40451.0  \n",
      "253                     0.0               40702.0  \n",
      "254                     0.0               40541.0  \n",
      "\n",
      "[255 rows x 4 columns]\n",
      "     ch00_leftTop_to_rightBottom  ch01_leftTop_to_rightBottom  \\\n",
      "0                        29315.0                      23047.0   \n",
      "1                        29354.0                      23125.0   \n",
      "2                        29360.0                      23417.0   \n",
      "3                        29527.0                      22991.0   \n",
      "4                        29891.0                      23495.0   \n",
      "..                           ...                          ...   \n",
      "250                          0.0                          0.0   \n",
      "251                          0.0                          0.0   \n",
      "252                          0.0                          0.0   \n",
      "253                          0.0                          0.0   \n",
      "254                          0.0                          0.0   \n",
      "\n",
      "     ch00_leftBottom_to_rightTop  ch01_leftBottom_to_rightTop  \\\n",
      "0                        39341.0                      36723.0   \n",
      "1                        39598.0                      36740.0   \n",
      "2                        39680.0                      37127.0   \n",
      "3                        39880.0                      37038.0   \n",
      "4                        40145.0                      36897.0   \n",
      "..                           ...                          ...   \n",
      "250                          0.0                          0.0   \n",
      "251                          0.0                          0.0   \n",
      "252                          0.0                          0.0   \n",
      "253                          0.0                          0.0   \n",
      "254                          0.0                          0.0   \n",
      "\n",
      "     ch00_center_horizontal  ch01_center_horizontal  ch00_center_vertical  \\\n",
      "0                   37836.0                 32567.0               31433.0   \n",
      "1                   38261.0                 32641.0               31157.0   \n",
      "2                   38263.0                 32606.0               31603.0   \n",
      "3                   38574.0                 32868.0               31425.0   \n",
      "4                   38471.0                 33076.0               31929.0   \n",
      "..                      ...                     ...                   ...   \n",
      "250                     0.0                     0.0               42610.0   \n",
      "251                     0.0                     0.0               42639.0   \n",
      "252                     0.0                     0.0               42731.0   \n",
      "253                     0.0                     0.0               42672.0   \n",
      "254                     0.0                     0.0               42596.0   \n",
      "\n",
      "     ch01_center_vertical  \n",
      "0                 25494.0  \n",
      "1                 25825.0  \n",
      "2                 25740.0  \n",
      "3                 25825.0  \n",
      "4                 25823.0  \n",
      "..                    ...  \n",
      "250               40826.0  \n",
      "251               41023.0  \n",
      "252               41273.0  \n",
      "253               41046.0  \n",
      "254               41126.0  \n",
      "\n",
      "[255 rows x 8 columns]\n"
     ]
    }
   ],
   "source": [
    "for i in b1.Intensity_profiles:\n",
    "    file_id = conn.getObject('FileAnnotation', i).getFile().getId()\n",
    "    print(get_table_originalFile_id(conn,file_id))"
   ]
  },
  {
   "cell_type": "code",
   "metadata": {
    "ExecuteTime": {
     "end_time": "2024-05-06T10:20:56.786850Z",
     "start_time": "2024-05-06T10:20:56.762918Z"
    }
   },
   "source": [
    "conn.getObject('FileAnnotation', 131).getFile().getId()"
   ],
   "outputs": [
    {
     "data": {
      "text/plain": [
       "244"
      ]
     },
     "execution_count": 18,
     "metadata": {},
     "output_type": "execute_result"
    }
   ],
   "execution_count": 18
  },
  {
   "cell_type": "code",
   "metadata": {
    "ExecuteTime": {
     "end_time": "2024-05-06T10:20:58.285420Z",
     "start_time": "2024-05-06T10:20:58.275357Z"
    }
   },
   "source": [
    "b1"
   ],
   "outputs": [
    {
     "data": {
      "text/plain": [
       "   Field_illumination_image  Intensity_profiles  Channel\n",
       "0                        75                 131        1\n",
       "1                        76                 132        1\n",
       "2                        77                 133        2"
      ],
      "text/html": [
       "<div>\n",
       "<style scoped>\n",
       "    .dataframe tbody tr th:only-of-type {\n",
       "        vertical-align: middle;\n",
       "    }\n",
       "\n",
       "    .dataframe tbody tr th {\n",
       "        vertical-align: top;\n",
       "    }\n",
       "\n",
       "    .dataframe thead th {\n",
       "        text-align: right;\n",
       "    }\n",
       "</style>\n",
       "<table border=\"1\" class=\"dataframe\">\n",
       "  <thead>\n",
       "    <tr style=\"text-align: right;\">\n",
       "      <th></th>\n",
       "      <th>Field_illumination_image</th>\n",
       "      <th>Intensity_profiles</th>\n",
       "      <th>Channel</th>\n",
       "    </tr>\n",
       "  </thead>\n",
       "  <tbody>\n",
       "    <tr>\n",
       "      <th>0</th>\n",
       "      <td>75</td>\n",
       "      <td>131</td>\n",
       "      <td>1</td>\n",
       "    </tr>\n",
       "    <tr>\n",
       "      <th>1</th>\n",
       "      <td>76</td>\n",
       "      <td>132</td>\n",
       "      <td>1</td>\n",
       "    </tr>\n",
       "    <tr>\n",
       "      <th>2</th>\n",
       "      <td>77</td>\n",
       "      <td>133</td>\n",
       "      <td>2</td>\n",
       "    </tr>\n",
       "  </tbody>\n",
       "</table>\n",
       "</div>"
      ]
     },
     "execution_count": 19,
     "metadata": {},
     "output_type": "execute_result"
    }
   ],
   "execution_count": 19
  },
  {
   "metadata": {
    "ExecuteTime": {
     "end_time": "2024-05-06T10:41:24.778656Z",
     "start_time": "2024-05-06T10:41:24.765948Z"
    }
   },
   "cell_type": "code",
   "source": "df",
   "outputs": [
    {
     "data": {
      "text/plain": [
       "              Analysis_type Omero_object_type  Omero_object_id  Processed  \\\n",
       "0  FieldIlluminationDataset           [_code]               59       True   \n",
       "1  FieldIlluminationDataset           [_code]               60       True   \n",
       "2  FieldIlluminationDataset           [_code]               61       True   \n",
       "3  FieldIlluminationDataset           [_code]               62       True   \n",
       "\n",
       "  Acquisition_datetime  \n",
       "0  2021-03-04T00:00:00  \n",
       "1  2021-05-04T00:00:00  \n",
       "2  2021-07-04T00:00:00  \n",
       "3  2021-09-04T00:00:00  "
      ],
      "text/html": [
       "<div>\n",
       "<style scoped>\n",
       "    .dataframe tbody tr th:only-of-type {\n",
       "        vertical-align: middle;\n",
       "    }\n",
       "\n",
       "    .dataframe tbody tr th {\n",
       "        vertical-align: top;\n",
       "    }\n",
       "\n",
       "    .dataframe thead th {\n",
       "        text-align: right;\n",
       "    }\n",
       "</style>\n",
       "<table border=\"1\" class=\"dataframe\">\n",
       "  <thead>\n",
       "    <tr style=\"text-align: right;\">\n",
       "      <th></th>\n",
       "      <th>Analysis_type</th>\n",
       "      <th>Omero_object_type</th>\n",
       "      <th>Omero_object_id</th>\n",
       "      <th>Processed</th>\n",
       "      <th>Acquisition_datetime</th>\n",
       "    </tr>\n",
       "  </thead>\n",
       "  <tbody>\n",
       "    <tr>\n",
       "      <th>0</th>\n",
       "      <td>FieldIlluminationDataset</td>\n",
       "      <td>[_code]</td>\n",
       "      <td>59</td>\n",
       "      <td>True</td>\n",
       "      <td>2021-03-04T00:00:00</td>\n",
       "    </tr>\n",
       "    <tr>\n",
       "      <th>1</th>\n",
       "      <td>FieldIlluminationDataset</td>\n",
       "      <td>[_code]</td>\n",
       "      <td>60</td>\n",
       "      <td>True</td>\n",
       "      <td>2021-05-04T00:00:00</td>\n",
       "    </tr>\n",
       "    <tr>\n",
       "      <th>2</th>\n",
       "      <td>FieldIlluminationDataset</td>\n",
       "      <td>[_code]</td>\n",
       "      <td>61</td>\n",
       "      <td>True</td>\n",
       "      <td>2021-07-04T00:00:00</td>\n",
       "    </tr>\n",
       "    <tr>\n",
       "      <th>3</th>\n",
       "      <td>FieldIlluminationDataset</td>\n",
       "      <td>[_code]</td>\n",
       "      <td>62</td>\n",
       "      <td>True</td>\n",
       "      <td>2021-09-04T00:00:00</td>\n",
       "    </tr>\n",
       "  </tbody>\n",
       "</table>\n",
       "</div>"
      ]
     },
     "execution_count": 21,
     "metadata": {},
     "output_type": "execute_result"
    }
   ],
   "execution_count": 21
  },
  {
   "metadata": {
    "ExecuteTime": {
     "end_time": "2024-05-06T14:25:38.879779Z",
     "start_time": "2024-05-06T14:25:38.823929Z"
    }
   },
   "cell_type": "code",
   "source": "project_id = conn.getObject(\"Dataset\", 1).getParent().getId()",
   "outputs": [],
   "execution_count": 55
  },
  {
   "metadata": {
    "ExecuteTime": {
     "end_time": "2024-05-06T14:25:44.403284Z",
     "start_time": "2024-05-06T14:25:44.396927Z"
    }
   },
   "cell_type": "code",
   "source": "project_id",
   "outputs": [
    {
     "data": {
      "text/plain": [
       "1"
      ]
     },
     "execution_count": 56,
     "metadata": {},
     "output_type": "execute_result"
    }
   ],
   "execution_count": 56
  },
  {
   "metadata": {
    "ExecuteTime": {
     "end_time": "2024-05-07T15:02:43.121390Z",
     "start_time": "2024-05-07T15:02:43.096540Z"
    }
   },
   "cell_type": "code",
   "source": "from load import get_dataset_by_id, get_key_values",
   "outputs": [
    {
     "ename": "ImportError",
     "evalue": "cannot import name 'get_key_values' from 'load' (/home/wapaa/projects/OMERO-metrics/omero_metrics/tools/load.py)",
     "output_type": "error",
     "traceback": [
      "\u001B[0;31m---------------------------------------------------------------------------\u001B[0m",
      "\u001B[0;31mImportError\u001B[0m                               Traceback (most recent call last)",
      "Cell \u001B[0;32mIn[23], line 1\u001B[0m\n\u001B[0;32m----> 1\u001B[0m \u001B[38;5;28;01mfrom\u001B[39;00m \u001B[38;5;21;01mload\u001B[39;00m \u001B[38;5;28;01mimport\u001B[39;00m get_dataset_by_id, get_key_values\n",
      "\u001B[0;31mImportError\u001B[0m: cannot import name 'get_key_values' from 'load' (/home/wapaa/projects/OMERO-metrics/omero_metrics/tools/load.py)"
     ]
    }
   ],
   "execution_count": 23
  },
  {
   "metadata": {
    "ExecuteTime": {
     "end_time": "2024-05-07T08:42:49.180951Z",
     "start_time": "2024-05-07T08:42:48.853378Z"
    }
   },
   "cell_type": "code",
   "source": "coll = load_project(conn, 1)",
   "outputs": [],
   "execution_count": 6
  },
  {
   "metadata": {
    "ExecuteTime": {
     "end_time": "2024-05-07T08:43:42.230645Z",
     "start_time": "2024-05-07T08:43:42.225645Z"
    }
   },
   "cell_type": "code",
   "source": "dataset = get_dataset_by_id(coll, 1)",
   "outputs": [],
   "execution_count": 11
  },
  {
   "metadata": {
    "ExecuteTime": {
     "end_time": "2024-05-07T08:43:45.355242Z",
     "start_time": "2024-05-07T08:43:45.348240Z"
    }
   },
   "cell_type": "code",
   "source": "dataset.processed",
   "outputs": [
    {
     "data": {
      "text/plain": [
       "True"
      ]
     },
     "execution_count": 12,
     "metadata": {},
     "output_type": "execute_result"
    }
   ],
   "execution_count": 12
  },
  {
   "metadata": {
    "ExecuteTime": {
     "end_time": "2024-05-07T08:28:17.779322Z",
     "start_time": "2024-05-07T08:28:17.686794Z"
    }
   },
   "cell_type": "code",
   "source": [
    "project_id = conn.getObject(\"Dataset\", 3).getParent().getId()\n",
    "collections_mm_p = load_project(conn, project_id)\n",
    "#dataset = load.get_dataset_by_id(collections_mm_p, dataset_id)\n",
    "dataset = [i for i in collections_mm_p.datasets if i.data_reference.omero_object_id == 3][0]\n",
    "dataset"
   ],
   "outputs": [
    {
     "name": "stderr",
     "output_type": "stream",
     "text": [
      "WARNING:omero.gateway:ConnectionLostException on <class 'omero.gateway.OmeroGatewaySafeCallWrapper'> to <2bd3ca93-3101-4ed1-b4c9-d39836a36190omero.api.IQuery> findByQuery(('select obj from Dataset obj join fetch obj.details.owner as owner join fetch obj.details.creationEvent where obj.id in (:ids)', object #0 (::omero::sys::Parameters)\n",
      "{\n",
      "    map = \n",
      "    {\n",
      "        key = ids\n",
      "        value = object #1 (::omero::RList)\n",
      "        {\n",
      "            _val = \n",
      "            {\n",
      "                [0] = object #2 (::omero::RLong)\n",
      "                {\n",
      "                    _val = 3\n",
      "                }\n",
      "            }\n",
      "        }\n",
      "    }\n",
      "    theFilter = <nil>\n",
      "    theOptions = <nil>\n",
      "}, <ServiceOptsDict: {'omero.client.uuid': '2bd3ca93-3101-4ed1-b4c9-d39836a36190', 'omero.event': 'Internal', 'omero.session.uuid': 'cec2368c-1bba-4956-a732-373d194f90e2'}>), {})\n",
      "Traceback (most recent call last):\n",
      "  File \"/home/wapaa/projects/OMERO-metrics/.venv/lib/python3.11/site-packages/omero/gateway/__init__.py\", line 4810, in __call__\n",
      "    return self.f(*args, **kwargs)\n",
      "           ^^^^^^^^^^^^^^^^^^^^^^^\n",
      "  File \"/home/wapaa/projects/OMERO-metrics/.venv/lib/python3.11/site-packages/omero_api_IQuery_ice.py\", line 651, in findByQuery\n",
      "    return _M_omero.api.IQuery._op_findByQuery.invoke(self, ((query, params), _ctx))\n",
      "           ^^^^^^^^^^^^^^^^^^^^^^^^^^^^^^^^^^^^^^^^^^^^^^^^^^^^^^^^^^^^^^^^^^^^^^^^^\n",
      "Ice.ConnectionLostException: Ice.ConnectionLostException:\n",
      "recv() returned zero\n"
     ]
    },
    {
     "ename": "ConnectionLostException",
     "evalue": "Ice.ConnectionLostException:\nrecv() returned zero",
     "output_type": "error",
     "traceback": [
      "\u001B[0;31m---------------------------------------------------------------------------\u001B[0m",
      "\u001B[0;31mConnectionLostException\u001B[0m                   Traceback (most recent call last)",
      "Cell \u001B[0;32mIn[77], line 1\u001B[0m\n\u001B[0;32m----> 1\u001B[0m project_id \u001B[38;5;241m=\u001B[39m \u001B[43mconn\u001B[49m\u001B[38;5;241;43m.\u001B[39;49m\u001B[43mgetObject\u001B[49m\u001B[43m(\u001B[49m\u001B[38;5;124;43m\"\u001B[39;49m\u001B[38;5;124;43mDataset\u001B[39;49m\u001B[38;5;124;43m\"\u001B[39;49m\u001B[43m,\u001B[49m\u001B[43m \u001B[49m\u001B[38;5;241;43m3\u001B[39;49m\u001B[43m)\u001B[49m\u001B[38;5;241m.\u001B[39mgetParent()\u001B[38;5;241m.\u001B[39mgetId()\n\u001B[1;32m      2\u001B[0m collections_mm_p \u001B[38;5;241m=\u001B[39m load_project(conn, project_id)\n\u001B[1;32m      3\u001B[0m \u001B[38;5;66;03m#dataset = load.get_dataset_by_id(collections_mm_p, dataset_id)\u001B[39;00m\n",
      "File \u001B[0;32m~/projects/OMERO-metrics/.venv/lib/python3.11/site-packages/omero/gateway/__init__.py:3225\u001B[0m, in \u001B[0;36m_BlitzGateway.getObject\u001B[0;34m(self, obj_type, oid, params, attributes, opts)\u001B[0m\n\u001B[1;32m   3222\u001B[0m oids \u001B[38;5;241m=\u001B[39m (oid \u001B[38;5;129;01mis\u001B[39;00m \u001B[38;5;129;01mnot\u001B[39;00m \u001B[38;5;28;01mNone\u001B[39;00m) \u001B[38;5;129;01mand\u001B[39;00m [oid] \u001B[38;5;129;01mor\u001B[39;00m \u001B[38;5;28;01mNone\u001B[39;00m\n\u001B[1;32m   3223\u001B[0m query, params, wrapper \u001B[38;5;241m=\u001B[39m \u001B[38;5;28mself\u001B[39m\u001B[38;5;241m.\u001B[39mbuildQuery(\n\u001B[1;32m   3224\u001B[0m     obj_type, oids, params, attributes, opts)\n\u001B[0;32m-> 3225\u001B[0m result \u001B[38;5;241m=\u001B[39m \u001B[38;5;28;43mself\u001B[39;49m\u001B[38;5;241;43m.\u001B[39;49m\u001B[43mgetQueryService\u001B[49m\u001B[43m(\u001B[49m\u001B[43m)\u001B[49m\u001B[38;5;241;43m.\u001B[39;49m\u001B[43mfindByQuery\u001B[49m\u001B[43m(\u001B[49m\n\u001B[1;32m   3226\u001B[0m \u001B[43m    \u001B[49m\u001B[43mquery\u001B[49m\u001B[43m,\u001B[49m\u001B[43m \u001B[49m\u001B[43mparams\u001B[49m\u001B[43m,\u001B[49m\u001B[43m \u001B[49m\u001B[38;5;28;43mself\u001B[39;49m\u001B[38;5;241;43m.\u001B[39;49m\u001B[43mSERVICE_OPTS\u001B[49m\u001B[43m)\u001B[49m\n\u001B[1;32m   3227\u001B[0m \u001B[38;5;28;01mif\u001B[39;00m result \u001B[38;5;129;01mis\u001B[39;00m \u001B[38;5;129;01mnot\u001B[39;00m \u001B[38;5;28;01mNone\u001B[39;00m:\n\u001B[1;32m   3228\u001B[0m     \u001B[38;5;28;01mreturn\u001B[39;00m wrapper(\u001B[38;5;28mself\u001B[39m, result)\n",
      "File \u001B[0;32m~/projects/OMERO-metrics/.venv/lib/python3.11/site-packages/omero/gateway/__init__.py:4813\u001B[0m, in \u001B[0;36mOmeroGatewaySafeCallWrapper.__call__\u001B[0;34m(self, *args, **kwargs)\u001B[0m\n\u001B[1;32m   4811\u001B[0m \u001B[38;5;28;01mexcept\u001B[39;00m \u001B[38;5;167;01mException\u001B[39;00m \u001B[38;5;28;01mas\u001B[39;00m e:\n\u001B[1;32m   4812\u001B[0m     \u001B[38;5;28mself\u001B[39m\u001B[38;5;241m.\u001B[39mdebug(e\u001B[38;5;241m.\u001B[39m\u001B[38;5;18m__class__\u001B[39m\u001B[38;5;241m.\u001B[39m\u001B[38;5;18m__name__\u001B[39m, args, kwargs)\n\u001B[0;32m-> 4813\u001B[0m     \u001B[38;5;28;01mreturn\u001B[39;00m \u001B[38;5;28;43mself\u001B[39;49m\u001B[38;5;241;43m.\u001B[39;49m\u001B[43mhandle_exception\u001B[49m\u001B[43m(\u001B[49m\u001B[43me\u001B[49m\u001B[43m,\u001B[49m\u001B[43m \u001B[49m\u001B[38;5;241;43m*\u001B[39;49m\u001B[43margs\u001B[49m\u001B[43m,\u001B[49m\u001B[43m \u001B[49m\u001B[38;5;241;43m*\u001B[39;49m\u001B[38;5;241;43m*\u001B[39;49m\u001B[43mkwargs\u001B[49m\u001B[43m)\u001B[49m\n",
      "File \u001B[0;32m~/projects/OMERO-metrics/.venv/lib/python3.11/site-packages/omero/gateway/__init__.py:4810\u001B[0m, in \u001B[0;36mOmeroGatewaySafeCallWrapper.__call__\u001B[0;34m(self, *args, **kwargs)\u001B[0m\n\u001B[1;32m   4808\u001B[0m \u001B[38;5;28;01mdef\u001B[39;00m \u001B[38;5;21m__call__\u001B[39m(\u001B[38;5;28mself\u001B[39m, \u001B[38;5;241m*\u001B[39margs, \u001B[38;5;241m*\u001B[39m\u001B[38;5;241m*\u001B[39mkwargs):\n\u001B[1;32m   4809\u001B[0m     \u001B[38;5;28;01mtry\u001B[39;00m:\n\u001B[0;32m-> 4810\u001B[0m         \u001B[38;5;28;01mreturn\u001B[39;00m \u001B[38;5;28;43mself\u001B[39;49m\u001B[38;5;241;43m.\u001B[39;49m\u001B[43mf\u001B[49m\u001B[43m(\u001B[49m\u001B[38;5;241;43m*\u001B[39;49m\u001B[43margs\u001B[49m\u001B[43m,\u001B[49m\u001B[43m \u001B[49m\u001B[38;5;241;43m*\u001B[39;49m\u001B[38;5;241;43m*\u001B[39;49m\u001B[43mkwargs\u001B[49m\u001B[43m)\u001B[49m\n\u001B[1;32m   4811\u001B[0m     \u001B[38;5;28;01mexcept\u001B[39;00m \u001B[38;5;167;01mException\u001B[39;00m \u001B[38;5;28;01mas\u001B[39;00m e:\n\u001B[1;32m   4812\u001B[0m         \u001B[38;5;28mself\u001B[39m\u001B[38;5;241m.\u001B[39mdebug(e\u001B[38;5;241m.\u001B[39m\u001B[38;5;18m__class__\u001B[39m\u001B[38;5;241m.\u001B[39m\u001B[38;5;18m__name__\u001B[39m, args, kwargs)\n",
      "File \u001B[0;32m~/projects/OMERO-metrics/.venv/lib/python3.11/site-packages/omero_api_IQuery_ice.py:651\u001B[0m, in \u001B[0;36mIQueryPrx.findByQuery\u001B[0;34m(self, query, params, _ctx)\u001B[0m\n\u001B[1;32m    650\u001B[0m \u001B[38;5;28;01mdef\u001B[39;00m \u001B[38;5;21mfindByQuery\u001B[39m(\u001B[38;5;28mself\u001B[39m, query, params, _ctx\u001B[38;5;241m=\u001B[39m\u001B[38;5;28;01mNone\u001B[39;00m):\n\u001B[0;32m--> 651\u001B[0m     \u001B[38;5;28;01mreturn\u001B[39;00m \u001B[43m_M_omero\u001B[49m\u001B[38;5;241;43m.\u001B[39;49m\u001B[43mapi\u001B[49m\u001B[38;5;241;43m.\u001B[39;49m\u001B[43mIQuery\u001B[49m\u001B[38;5;241;43m.\u001B[39;49m\u001B[43m_op_findByQuery\u001B[49m\u001B[38;5;241;43m.\u001B[39;49m\u001B[43minvoke\u001B[49m\u001B[43m(\u001B[49m\u001B[38;5;28;43mself\u001B[39;49m\u001B[43m,\u001B[49m\u001B[43m \u001B[49m\u001B[43m(\u001B[49m\u001B[43m(\u001B[49m\u001B[43mquery\u001B[49m\u001B[43m,\u001B[49m\u001B[43m \u001B[49m\u001B[43mparams\u001B[49m\u001B[43m)\u001B[49m\u001B[43m,\u001B[49m\u001B[43m \u001B[49m\u001B[43m_ctx\u001B[49m\u001B[43m)\u001B[49m\u001B[43m)\u001B[49m\n",
      "\u001B[0;31mConnectionLostException\u001B[0m: Ice.ConnectionLostException:\nrecv() returned zero"
     ]
    }
   ],
   "execution_count": 77
  },
  {
   "metadata": {
    "ExecuteTime": {
     "end_time": "2024-05-06T14:55:37.452446Z",
     "start_time": "2024-05-06T14:55:37.446592Z"
    }
   },
   "cell_type": "code",
   "source": [
    "for i in collections_mm_p.datasets:\n",
    "    print(i.data_reference.omero_object_id)"
   ],
   "outputs": [
    {
     "name": "stdout",
     "output_type": "stream",
     "text": [
      "3\n",
      "4\n",
      "5\n",
      "6\n"
     ]
    }
   ],
   "execution_count": 76
  },
  {
   "metadata": {
    "ExecuteTime": {
     "end_time": "2024-05-07T10:07:09.513217Z",
     "start_time": "2024-05-07T10:07:09.286717Z"
    }
   },
   "cell_type": "code",
   "source": "",
   "outputs": [
    {
     "ename": "SyntaxError",
     "evalue": "invalid syntax. Maybe you meant '==' or ':=' instead of '='? (3720334485.py, line 1)",
     "output_type": "error",
     "traceback": [
      "\u001B[0;36m  Cell \u001B[0;32mIn[15], line 1\u001B[0;36m\u001B[0m\n\u001B[0;31m    FieldIlluminationDataset(name='FI_60x_2021-02-01', description='Field Illumination dataset', data_reference=DataReference(data_uri='https://localhost:6064/webclient/?show=dataset-1', omero_host='localhost', omero_port=6064, omero_object_type=(text='DATASET', description='A dataset'), omero_object_id=1), linked_references=[], microscope=Microscope(name='IGH-Z3', description=None, data_reference=None, linked_references=[], type=None, manufacturer=None, model=None, serial_number=None, comments={}), input=FieldIlluminationInput(field_illumination_image=[Image(name='FI_60x_DAPI_2021-02-01', description='An image taken on the IGH-Z3 microscope on the 2021-02-01 for QC', data_reference=DataReference(data_uri='https://localhost:6064/webclient/?show=image-1', omero_host='localhost', omero_port=6064, omero_object_type=(text='IMAGE', description='An image'), omero_object_id=1), linked_references=[], shape_x=512, shape_y=512, acquisition_datetime='2024-05-06T15:27:06.611400', shape_z=1, shape_c=1, shape_t=1, voxel_size_x_micron=None, voxel_size_y_micron=None, voxel_size_z_micron=None, time_series=None, channel_series=ChannelSeries(channels=[Channel(name='DAPI', description=None, excitation_wavelength_nm=None, emission_wavelength_nm=None)]), source_images=[], array_data=None), Image(name='FI_60x_FITC_2021-02-01', description='An image taken on the IGH-Z3 microscope on the 2021-02-01 for QC', data_reference=DataReference(data_uri='https://localhost:6064/webclient/?show=image-2', omero_host='localhost', omero_port=6064, omero_object_type=(text='IMAGE', description='An image'), omero_object_id=2), linked_references=[], shape_x=512, shape_y=512, acquisition_datetime='2024-05-06T15:27:07.656286', shape_z=1, shape_c=1, shape_t=1, voxel_size_x_micron=None, voxel_size_y_micron=None, voxel_size_z_micron=None, time_series=None, channel_series=ChannelSeries(channels=[Channel(name='FITC', description=None, excitation_wavelength_nm=None, emission_wavelength_nm=None)]), source_images=[], array_data=None), Image(name='FI_60x_TRITC_CY5_2021-02-01', description='An image taken on the IGH-Z3 microscope on the 2021-02-01 for QC', data_reference=DataReference(data_uri='https://localhost:6064/webclient/?show=image-3', omero_host='localhost', omero_port=6064, omero_object_type=(text='IMAGE', description='An image'), omero_object_id=3), linked_references=[], shape_x=512, shape_y=512, acquisition_datetime='2024-05-06T15:27:09.708943', shape_z=1, shape_c=2, shape_t=1, voxel_size_x_micron=None, voxel_size_y_micron=None, voxel_size_z_micron=None, time_series=None, channel_series=ChannelSeries(channels=[Channel(name='TRITC', description=None, excitation_wavelength_nm=None, emission_wavelength_nm=None), Channel(name='CY5', description=None, excitation_wavelength_nm=None, emission_wavelength_nm=None)]), source_images=[], array_data=None)], saturation_threshold=0.01, corner_fraction=0.1, sigma=5.0, bit_depth=None), processed=True, sample=None, experimenter=None, acquisition_datetime='2021-02-01T00:00:00', output=FieldIlluminationOutput(processing_application=['microscopemetrics'], processing_version=['0.1.0'], processing_datetime='2024-05-06T15:27:17.221153', processing_entity=[], processing_log=None, warnings=[], errors=[], comment=None, key_values=FieldIlluminationKeyValues(name=None, description=None, data_reference=DataReference(data_uri='https://localhost:6064/webclient/?show=key_values-3', omero_host='localhost', omero_port=6064, omero_object_type=(text='KEY_VALUES', description='A set of key-value pairs'), omero_object_id=3), linked_references=[], channel_name=['DAPI', 'FITC', 'TRITC', 'CY5'], center_region_intensity_fraction=[0.05, 0.05, 0.05, 0.05], center_region_area_fraction=[0.1268310546875, 0.159332275390625, 0.14093017578125, 0.1522064208984375], center_of_mass_y=[236.0090531761309, 297.0, 292.0, 204.0104260651629], center_of_mass_y_relative=[-0.07808963603073871, 0.16015625, 0.140625, -0.2030842731829574], center_of_mass_x=[236.99636068334937, 227.0, 287.0, 251.00689223057645], center_of_mass_x_relative=[-0.07423296608066654, -0.11328125, 0.12109375, -0.019504327224310725], center_of_mass_distance_relative=[0.10774286291233695, 0.19616999264827686, 0.18557771125343286, 0.2040187265785253], center_geometric_y=[236.0090531761309, 297.0, 292.0, 204.0104260651629], center_geometric_y_relative=[-0.07808963603073871, 0.16015625, 0.140625, -0.2030842731829574], center_geometric_x=[236.99636068334937, 227.0, 287.0, 251.00689223057645], center_geometric_x_relative=[-0.07423296608066654, -0.11328125, 0.12109375, -0.019504327224310725], center_geometric_distance_relative=[0.10774286291233695, 0.19616999264827686, 0.18557771125343286, 0.2040187265785253], center_fitted_y=[235.99808889221057, 297.0009379257951, 292.00411544777563, 203.98902786254723], center_fitted_y_relative=[-0.07813246526480244, 0.16015991377263705, 0.14064107596787356, -0.20316785991192488], center_fitted_x=[237.0053772339774, 227.00357068326917, 287.00151961836804, 250.99780272129894], center_fitted_x_relative=[-0.07419774517977573, -0.11326730201847979, 0.12109968600925014, -0.01953983311992602], center_fitted_distance_relative=[0.10774965205567252, 0.19616492980704794, 0.1855937666004442, 0.20410532668097148], max_intensity=[57091.62356835355, 56278.285742499495, 57166.74117375512, 55617.89873299925], max_intensity_pos_y=[237.0, 297.0, 292.0, 204.0], max_intensity_pos_y_relative=[-0.07421875, 0.16015625, 0.140625, -0.203125], max_intensity_pos_x=[236.0, 227.0, 287.0, 250.0], max_intensity_pos_x_relative=[-0.078125, -0.11328125, 0.12109375, -0.0234375], max_intensity_distance_relative=[0.1077587048760447, 0.19616999264827686, 0.18557771125343286, 0.204472692629725], top_left_intensity_mean=[36463.839292579774, 35862.27258746636, 29520.33717800846, 39726.35909265667], top_left_intensity_ratio=[0.6381379271027768, 0.6369400502178595, 0.5161620012940352, 0.7135916202808764], top_center_intensity_mean=[46039.11199095022, 42274.7092760181, 41607.51470588235, 49028.842760180996], top_center_intensity_ratio=[0.8057106454376056, 0.7508295907221174, 0.7275058523199459, 0.8806890977381581], top_right_intensity_mean=[33162.05921568628, 32031.72431372549, 34489.84117647059, 39063.560784313726], top_right_intensity_ratio=[0.5803548978086887, 0.5689067262312711, 0.6030535944969679, 0.7016859906291197], middle_left_intensity_mean=[45934.04110105581, 47954.166666666664, 42057.98114630468, 44929.24547511312], middle_left_intensity_ratio=[0.8038718451034426, 0.851700885668277, 0.7353822413327857, 0.8070493699612568], middle_center_intensity_mean=[56798.69970414201, 55679.067307692305, 56528.9375, 54969.32803254438], middle_center_intensity_ratio=[0.9940095501328645, 0.9889007407589568, 0.9884063767659813, 0.9873960954993511], middle_right_intensity_mean=[42187.037307692306, 43339.36961538462, 48007.14653846154, 44213.85846153846], middle_right_intensity_ratio=[0.7382971475419104, 0.7697387328677291, 0.8394031776902633, 0.7941991065642517], bottom_left_intensity_mean=[32984.83411764706, 42017.881568627454, 35306.561568627454, 32157.029411764706], bottom_left_intensity_ratio=[0.5772533577929517, 0.7462681438019937, 0.61733392027954, 0.5776262221221948], bottom_center_intensity_mean=[42087.14153846154, 49098.57384615385, 48494.355, 40385.92615384615], bottom_center_intensity_ratio=[0.7365489147628067, 0.8720263897086148, 0.847921999580361, 0.7254392080948097], bottom_right_intensity_mean=[29846.65, 37787.9508, 40728.4264, 31570.5324], bottom_right_intensity_ratio=[0.5223333508339021, 0.6711414961636828, 0.7121350258777451, 0.5670911677534084]), intensity_profiles=[Table(name='FI_60x_DAPI_2021-02-01_intensity_profiles', description='Intensity profiles of FI_60x_DAPI_2021-02-01', data_reference=DataReference(data_uri='https://localhost:6064/webclient/?show=fileannotation-4', omero_host='localhost', omero_port=6064, omero_object_type=(text='FILEANNOTATION', description='A file'), omero_object_id=4), linked_references=[], column_series=ColumnSeries(columns=[Column(name='ch00_leftTop_to_rightBottom', description=None, source_reference=None), Column(name='ch00_leftBottom_to_rightTop', description=None, source_reference=None), Column(name='ch00_center_horizontal', description=None, source_reference=None), Column(name='ch00_center_vertical', description=None, source_reference=None)]), table_data=None), Table(name='FI_60x_FITC_2021-02-01_intensity_profiles', description='Intensity profiles of FI_60x_FITC_2021-02-01', data_reference=DataReference(data_uri='https://localhost:6064/webclient/?show=fileannotation-5', omero_host='localhost', omero_port=6064, omero_object_type=(text='FILEANNOTATION', description='A file'), omero_object_id=5), linked_references=[], column_series=ColumnSeries(columns=[Column(name='ch00_leftTop_to_rightBottom', description=None, source_reference=None), Column(name='ch00_leftBottom_to_rightTop', description=None, source_reference=None), Column(name='ch00_center_horizontal', description=None, source_reference=None), Column(name='ch00_center_vertical', description=None, source_reference=None)]), table_data=None), Table(name='FI_60x_TRITC_CY5_2021-02-01_intensity_profiles', description='Intensity profiles of FI_60x_TRITC_CY5_2021-02-01', data_reference=DataReference(data_uri='https://localhost:6064/webclient/?show=fileannotation-6', omero_host='localhost', omero_port=6064, omero_object_type=(text='FILEANNOTATION', description='A file'), omero_object_id=6), linked_references=[], column_series=ColumnSeries(columns=[Column(name='ch00_leftTop_to_rightBottom', description=None, source_reference=None), Column(name='ch01_leftTop_to_rightBottom', description=None, source_reference=None), Column(name='ch00_leftBottom_to_rightTop', description=None, source_reference=None), Column(name='ch01_leftBottom_to_rightTop', description=None, source_reference=None), Column(name='ch00_center_horizontal', description=None, source_reference=None), Column(name='ch01_center_horizontal', description=None, source_reference=None), Column(name='ch00_center_vertical', description=None, source_reference=None), Column(name='ch01_center_vertical', description=None, source_reference=None)]), table_data=None)], roi_profiles=[Roi(name='Profile ROIs', description='ROIs used to compute the intensity profiles', data_reference=None, linked_references=[DataReference(data_uri='https://localhost:6064/webclient/?show=roi-1', omero_host='localhost', omero_port=6064, omero_object_type=(text='ROI', description='A region of interest'), omero_object_id=1)], points=[], lines=[Line(name='leftTop_to_rightBottom', description=None, z=None, c=None, t=None, fill_color=None, stroke_color=Color(r=0, g=0, b=255, alpha=200), stroke_width=1, x1=0.0, y1=0.0, x2=512.0, y2=512.0), Line(name='leftBottom_to_rightTop', description=None, z=None, c=None, t=None, fill_color=None, stroke_color=Color(r=0, g=0, b=255, alpha=200), stroke_width=1, x1=0.0, y1=512.0, x2=512.0, y2=0.0), Line(name='center_horizontal', description=None, z=None, c=None, t=None, fill_color=None, stroke_color=Color(r=0, g=0, b=255, alpha=200), stroke_width=1, x1=0.0, y1=256.0, x2=512.0, y2=256.0), Line(name='center_vertical', description=None, z=None, c=None, t=None, fill_color=None, stroke_color=Color(r=0, g=0, b=255, alpha=200), stroke_width=1, x1=256.0, y1=0.0, x2=256.0, y2=512.0)], rectangles=[], ellipses=[], polygons=[], masks=[]), Roi(name='Profile ROIs', description='ROIs used to compute the intensity profiles', data_reference=None, linked_references=[DataReference(data_uri='https://localhost:6064/webclient/?show=roi-2', omero_host='localhost', omero_port=6064, omero_object_type=(text='ROI', description='A region of interest'), omero_object_id=2)], points=[], lines=[Line(name='leftTop_to_rightBottom', description=None, z=None, c=None, t=None, fill_color=None, stroke_color=Color(r=0, g=0, b=255, alpha=200), stroke_width=1, x1=0.0, y1=0.0, x2=512.0, y2=512.0), Line(name='leftBottom_to_rightTop', description=None, z=None, c=None, t=None, fill_color=None, stroke_color=Color(r=0, g=0, b=255, alpha=200), stroke_width=1, x1=0.0, y1=512.0, x2=512.0, y2=0.0), Line(name='center_horizontal', description=None, z=None, c=None, t=None, fill_color=None, stroke_color=Color(r=0, g=0, b=255, alpha=200), stroke_width=1, x1=0.0, y1=256.0, x2=512.0, y2=256.0), Line(name='center_vertical', description=None, z=None, c=None, t=None, fill_color=None, stroke_color=Color(r=0, g=0, b=255, alpha=200), stroke_width=1, x1=256.0, y1=0.0, x2=256.0, y2=512.0)], rectangles=[], ellipses=[], polygons=[], masks=[]), Roi(name='Profile ROIs', description='ROIs used to compute the intensity profiles', data_reference=None, linked_references=[DataReference(data_uri='https://localhost:6064/webclient/?show=roi-3', omero_host='localhost', omero_port=6064, omero_object_type=(text='ROI', description='A region of interest'), omero_object_id=3)], points=[], lines=[Line(name='leftTop_to_rightBottom', description=None, z=None, c=None, t=None, fill_color=None, stroke_color=Color(r=0, g=0, b=255, alpha=200), stroke_width=1, x1=0.0, y1=0.0, x2=512.0, y2=512.0), Line(name='leftBottom_to_rightTop', description=None, z=None, c=None, t=None, fill_color=None, stroke_color=Color(r=0, g=0, b=255, alpha=200), stroke_width=1, x1=0.0, y1=512.0, x2=512.0, y2=0.0), Line(name='center_horizontal', description=None, z=None, c=None, t=None, fill_color=None, stroke_color=Color(r=0, g=0, b=255, alpha=200), stroke_width=1, x1=0.0, y1=256.0, x2=512.0, y2=256.0), Line(name='center_vertical', description=None, z=None, c=None, t=None, fill_color=None, stroke_color=Color(r=0, g=0, b=255, alpha=200), stroke_width=1, x1=256.0, y1=0.0, x2=256.0, y2=512.0)], rectangles=[], ellipses=[], polygons=[], masks=[])], roi_corners=Roi(name='Corner ROIs', description='ROIs used to compute the corner intensities', data_reference=None, linked_references=[DataReference(data_uri='https://localhost:6064/webclient/?show=roi-4', omero_host='localhost', omero_port=6064, omero_object_type=(text='ROI', description='A region of interest'), omero_object_id=4), DataReference(data_uri='https://localhost:6064/webclient/?show=roi-5', omero_host='localhost', omero_port=6064, omero_object_type=(text='ROI', description='A region of interest'), omero_object_id=5), DataReference(data_uri='https://localhost:6064/webclient/?show=roi-6', omero_host='localhost', omero_port=6064, omero_object_type=(text='ROI', description='A region of interest'), omero_object_id=6)], points=[], lines=[], rectangles=[Rectangle(name='top_left', description=None, z=None, c=None, t=None, fill_color=None, stroke_color=Color(r=0, g=255, b=0, alpha=200), stroke_width=1, x=0.0, y=0.0, w=51.0, h=51.0), Rectangle(name='top_center', description=None, z=None, c=None, t=None, fill_color=None, stroke_color=Color(r=0, g=255, b=0, alpha=200), stroke_width=1, x=230.0, y=0.0, w=51.0, h=51.0), Rectangle(name='top_right', description=None, z=None, c=None, t=None, fill_color=None, stroke_color=Color(r=0, g=255, b=0, alpha=200), stroke_width=1, x=461.0, y=0.0, w=51.0, h=51.0), Rectangle(name='middle_left', description=None, z=None, c=None, t=None, fill_color=None, stroke_color=Color(r=0, g=255, b=0, alpha=200), stroke_width=1, x=0.0, y=230.0, w=51.0, h=51.0), Rectangle(name='middle_center', description=None, z=None, c=None, t=None, fill_color=None, stroke_color=Color(r=0, g=255, b=0, alpha=200), stroke_width=1, x=230.0, y=230.0, w=51.0, h=51.0), Rectangle(name='middle_right', description=None, z=None, c=None, t=None, fill_color=None, stroke_color=Color(r=0, g=255, b=0, alpha=200), stroke_width=1, x=461.0, y=230.0, w=51.0, h=51.0), Rectangle(name='bottom_left', description=None, z=None, c=None, t=None, fill_color=None, stroke_color=Color(r=0, g=255, b=0, alpha=200), stroke_width=1, x=0.0, y=461.0, w=51.0, h=51.0), Rectangle(name='bottom_center', description=None, z=None, c=None, t=None, fill_color=None, stroke_color=Color(r=0, g=255, b=0, alpha=200), stroke_width=1, x=230.0, y=461.0, w=51.0, h=51.0), Rectangle(name='bottom_right', description=None, z=None, c=None, t=None, fill_color=None, stroke_color=Color(r=0, g=255, b=0, alpha=200), stroke_width=1, x=461.0, y=461.0, w=51.0, h=51.0)], ellipses=[], polygons=[], masks=[]), roi_centers_of_mass=[Roi(name='Centers of mass ROIs', description='Point ROI marking the centroids of the max intensity regions', data_reference=None, linked_references=[DataReference(data_uri='https://localhost:6064/webclient/?show=roi-7', omero_host='localhost', omero_port=6064, omero_object_type=(text='ROI', description='A region of interest'), omero_object_id=7)], points=[Point(name='ch00_center', description=None, z=None, c=0, t=None, fill_color=Color(r=255, g=0, b=0, alpha=200), stroke_color=Color(r=255, g=0, b=0, alpha=200), stroke_width=5, y=236.0090531761309, x=236.99636068334937)], lines=[], rectangles=[], ellipses=[], polygons=[], masks=[]), Roi(name='Centers of mass ROIs', description='Point ROI marking the centroids of the max intensity regions', data_reference=None, linked_references=[DataReference(data_uri='https://localhost:6064/webclient/?show=roi-8', omero_host='localhost', omero_port=6064, omero_object_type=(text='ROI', description='A region of interest'), omero_object_id=8)], points=[Point(name='ch00_center', description=None, z=None, c=0, t=None, fill_color=Color(r=255, g=0, b=0, alpha=200), stroke_color=Color(r=255, g=0, b=0, alpha=200), stroke_width=5, y=297.0, x=227.0)], lines=[], rectangles=[], ellipses=[], polygons=[], masks=[]), Roi(name='Centers of mass ROIs', description='Point ROI marking the centroids of the max intensity regions', data_reference=None, linked_references=[DataReference(data_uri='https://localhost:6064/webclient/?show=roi-9', omero_host='localhost', omero_port=6064, omero_object_type=(text='ROI', description='A region of interest'), omero_object_id=9)], points=[Point(name='ch00_center', description=None, z=None, c=0, t=None, fill_color=Color(r=255, g=0, b=0, alpha=200), stroke_color=Color(r=255, g=0, b=0, alpha=200), stroke_width=5, y=292.0, x=287.0), Point(name='ch01_center', description=None, z=None, c=1, t=None, fill_color=Color(r=255, g=0, b=0, alpha=200), stroke_color=Color(r=255, g=0, b=0, alpha=200), stroke_width=5, y=204.0104260651629, x=251.00689223057645)], lines=[], rectangles=[], ellipses=[], polygons=[], masks=[])], roi_centers_geometric=[Roi(name='Geometric centers ROIs', description='Point ROI marking the centroids of the max intensity regions', data_reference=None, linked_references=[DataReference(data_uri='https://localhost:6064/webclient/?show=roi-10', omero_host='localhost', omero_port=6064, omero_object_type=(text='ROI', description='A region of interest'), omero_object_id=10)], points=[Point(name='ch00_center', description=None, z=None, c=0, t=None, fill_color=Color(r=255, g=0, b=0, alpha=200), stroke_color=Color(r=255, g=0, b=0, alpha=200), stroke_width=5, y=236.0090531761309, x=236.99636068334937)], lines=[], rectangles=[], ellipses=[], polygons=[], masks=[]), Roi(name='Geometric centers ROIs', description='Point ROI marking the centroids of the max intensity regions', data_reference=None, linked_references=[DataReference(data_uri='https://localhost:6064/webclient/?show=roi-11', omero_host='localhost', omero_port=6064, omero_object_type=(text='ROI', description='A region of interest'), omero_object_id=11)], points=[Point(name='ch00_center', description=None, z=None, c=0, t=None, fill_color=Color(r=255, g=0, b=0, alpha=200), stroke_color=Color(r=255, g=0, b=0, alpha=200), stroke_width=5, y=297.0, x=227.0)], lines=[], rectangles=[], ellipses=[], polygons=[], masks=[]), Roi(name='Geometric centers ROIs', description='Point ROI marking the centroids of the max intensity regions', data_reference=None, linked_references=[DataReference(data_uri='https://localhost:6064/webclient/?show=roi-12', omero_host='localhost', omero_port=6064, omero_object_type=(text='ROI', description='A region of interest'), omero_object_id=12)], points=[Point(name='ch00_center', description=None, z=None, c=0, t=None, fill_color=Color(r=255, g=0, b=0, alpha=200), stroke_color=Color(r=255, g=0, b=0, alpha=200), stroke_width=5, y=292.0, x=287.0), Point(name='ch01_center', description=None, z=None, c=1, t=None, fill_color=Color(r=255, g=0, b=0, alpha=200), stroke_color=Color(r=255, g=0, b=0, alpha=200), stroke_width=5, y=204.0104260651629, x=251.00689223057645)], lines=[], rectangles=[], ellipses=[], polygons=[], masks=[])], roi_centers_fitted=[Roi(name='Fitted centers ROIs', description='Point ROI marking the centroids of the max intensity regions', data_reference=None, linked_references=[DataReference(data_uri='https://localhost:6064/webclient/?show=roi-13', omero_host='localhost', omero_port=6064, omero_object_type=(text='ROI', description='A region of interest'), omero_object_id=13)], points=[Point(name='ch00_center', description=None, z=None, c=0, t=None, fill_color=Color(r=255, g=0, b=0, alpha=200), stroke_color=Color(r=255, g=0, b=0, alpha=200), stroke_width=5, y=235.99808889221057, x=237.0053772339774)], lines=[], rectangles=[], ellipses=[], polygons=[], masks=[]), Roi(name='Fitted centers ROIs', description='Point ROI marking the centroids of the max intensity regions', data_reference=None, linked_references=[DataReference(data_uri='https://localhost:6064/webclient/?show=roi-14', omero_host='localhost', omero_port=6064, omero_object_type=(text='ROI', description='A region of interest'), omero_object_id=14)], points=[Point(name='ch00_center', description=None, z=None, c=0, t=None, fill_color=Color(r=255, g=0, b=0, alpha=200), stroke_color=Color(r=255, g=0, b=0, alpha=200), stroke_width=5, y=297.0009379257951, x=227.00357068326917)], lines=[], rectangles=[], ellipses=[], polygons=[], masks=[]), Roi(name='Fitted centers ROIs', description='Point ROI marking the centroids of the max intensity regions', data_reference=None, linked_references=[DataReference(data_uri='https://localhost:6064/webclient/?show=roi-15', omero_host='localhost', omero_port=6064, omero_object_type=(text='ROI', description='A region of interest'), omero_object_id=15)], points=[Point(name='ch00_center', description=None, z=None, c=0, t=None, fill_color=Color(r=255, g=0, b=0, alpha=200), stroke_color=Color(r=255, g=0, b=0, alpha=200), stroke_width=5, y=292.00411544777563, x=287.00151961836804), Point(name='ch01_center', description=None, z=None, c=1, t=None, fill_color=Color(r=255, g=0, b=0, alpha=200), stroke_color=Color(r=255, g=0, b=0, alpha=200), stroke_width=5, y=203.98902786254723, x=250.99780272129894)], lines=[], rectangles=[], ellipses=[], polygons=[], masks=[])], roi_centers_max_intensity=[Roi(name='Max intensity ROIs', description='Point ROI marking the centroids of the max intensity regions', data_reference=None, linked_references=[DataReference(data_uri='https://localhost:6064/webclient/?show=roi-16', omero_host='localhost', omero_port=6064, omero_object_type=(text='ROI', description='A region of interest'), omero_object_id=16)], points=[Point(name='ch00_center', description=None, z=None, c=0, t=None, fill_color=Color(r=255, g=0, b=0, alpha=200), stroke_color=Color(r=255, g=0, b=0, alpha=200), stroke_width=5, y=237.0, x=236.0)], lines=[], rectangles=[], ellipses=[], polygons=[], masks=[]), Roi(name='Max intensity ROIs', description='Point ROI marking the centroids of the max intensity regions', data_reference=None, linked_references=[DataReference(data_uri='https://localhost:6064/webclient/?show=roi-17', omero_host='localhost', omero_port=6064, omero_object_type=(text='ROI', description='A region of interest'), omero_object_id=17)], points=[Point(name='ch00_center', description=None, z=None, c=0, t=None, fill_color=Color(r=255, g=0, b=0, alpha=200), stroke_color=Color(r=255, g=0, b=0, alpha=200), stroke_width=5, y=297.0, x=227.0)], lines=[], rectangles=[], ellipses=[], polygons=[], masks=[]), Roi(name='Max intensity ROIs', description='Point ROI marking the centroids of the max intensity regions', data_reference=None, linked_references=[DataReference(data_uri='https://localhost:6064/webclient/?show=roi-18', omero_host='localhost', omero_port=6064, omero_object_type=(text='ROI', description='A region of interest'), omero_object_id=18)], points=[Point(name='ch00_center', description=None, z=None, c=0, t=None, fill_color=Color(r=255, g=0, b=0, alpha=200), stroke_color=Color(r=255, g=0, b=0, alpha=200), stroke_width=5, y=292.0, x=287.0), Point(name='ch01_center', description=None, z=None, c=1, t=None, fill_color=Color(r=255, g=0, b=0, alpha=200), stroke_color=Color(r=255, g=0, b=0, alpha=200), stroke_width=5, y=204.0, x=250.0)], lines=[], rectangles=[], ellipses=[], polygons=[], masks=[])], roi_center_region=[Roi(name='Center region ROIs', description='Mask ROIs marking the center region of the image', data_reference=None, linked_references=[DataReference(data_uri='https://localhost:6064/webclient/?show=roi-19', omero_host='localhost', omero_port=6064, omero_object_type=(text='ROI', description='A region of interest'), omero_object_id=19)], points=[], lines=[], rectangles=[], ellipses=[], polygons=[], masks=[Mask(name='ch00_center_region', description=None, z=None, c=0, t=None, fill_color=Color(r=255, g=200, b=60, alpha=128), stroke_color=None, stroke_width=1, y=0, x=0, mask=ImageMask(name=None, description=None, data_reference=None, linked_references=[], shape_x=512, shape_y=512, acquisition_datetime='2024-05-06T15:27:17.213712', shape_z=1, shape_c=1, shape_t=1, voxel_size_x_micron=None, voxel_size_y_micron=None, voxel_size_z_micron=None, time_series=None, channel_series=None, source_images=[], array_data=None))]), Roi(name='Center region ROIs', description='Mask ROIs marking the center region of the image', data_reference=None, linked_references=[DataReference(data_uri='https://localhost:6064/webclient/?show=roi-20', omero_host='localhost', omero_port=6064, omero_object_type=(text='ROI', description='A region of interest'), omero_object_id=20)], points=[], lines=[], rectangles=[], ellipses=[], polygons=[], masks=[Mask(name='ch00_center_region', description=None, z=None, c=0, t=None, fill_color=Color(r=255, g=200, b=60, alpha=128), stroke_color=None, stroke_width=1, y=0, x=0, mask=ImageMask(name=None, description=None, data_reference=None, linked_references=[], shape_x=512, shape_y=512, acquisition_datetime='2024-05-06T15:27:17.215971', shape_z=1, shape_c=1, shape_t=1, voxel_size_x_micron=None, voxel_size_y_micron=None, voxel_size_z_micron=None, time_series=None, channel_series=None, source_images=[], array_data=None))]), Roi(name='Center region ROIs', description='Mask ROIs marking the center region of the image', data_reference=None, linked_references=[DataReference(data_uri='https://localhost:6064/webclient/?show=roi-21', omero_host='localhost', omero_port=6064, omero_object_type=(text='ROI', description='A region of interest'), omero_object_id=21)], points=[], lines=[], rectangles=[], ellipses=[], polygons=[], masks=[Mask(name='ch00_center_region', description=None, z=None, c=0, t=None, fill_color=Color(r=255, g=200, b=60, alpha=128), stroke_color=None, stroke_width=1, y=0, x=0, mask=ImageMask(name=None, description=None, data_reference=None, linked_references=[], shape_x=512, shape_y=512, acquisition_datetime='2024-05-06T15:27:17.218525', shape_z=1, shape_c=1, shape_t=1, voxel_size_x_micron=None, voxel_size_y_micron=None, voxel_size_z_micron=None, time_series=None, channel_series=None, source_images=[], array_data=None)), Mask(name='ch01_center_region', description=None, z=None, c=1, t=None, fill_color=Color(r=255, g=200, b=60, alpha=128), stroke_color=None, stroke_width=1, y=0, x=0, mask=ImageMask(name=None, description=None, data_reference=None, linked_references=[], shape_x=512, shape_y=512, acquisition_datetime='2024-05-06T15:27:17.220989', shape_z=1, shape_c=1, shape_t=1, voxel_size_x_micron=None, voxel_size_y_micron=None, voxel_size_z_micron=None, time_series=None, channel_series=None, source_images=[], array_data=None))])])).processed\u001B[0m\n\u001B[0m                                                                                                                                                                                                                                                       ^\u001B[0m\n\u001B[0;31mSyntaxError\u001B[0m\u001B[0;31m:\u001B[0m invalid syntax. Maybe you meant '==' or ':=' instead of '='?\n"
     ]
    }
   ],
   "execution_count": 15
  },
  {
   "metadata": {
    "ExecuteTime": {
     "end_time": "2024-05-07T10:11:05.855084Z",
     "start_time": "2024-05-07T10:11:05.850043Z"
    }
   },
   "cell_type": "code",
   "source": [
    "if dataset.processed:\n",
    "    print('processed')\n",
    "else:\n",
    "    print('unprocessed')"
   ],
   "outputs": [
    {
     "name": "stdout",
     "output_type": "stream",
     "text": [
      "processed\n"
     ]
    }
   ],
   "execution_count": 16
  },
  {
   "metadata": {
    "ExecuteTime": {
     "end_time": "2024-05-07T10:31:05.334102Z",
     "start_time": "2024-05-07T10:31:05.324820Z"
    }
   },
   "cell_type": "code",
   "source": "dataset.output.key_values",
   "outputs": [
    {
     "data": {
      "text/plain": [
       "FieldIlluminationKeyValues(name=None, description=None, data_reference=DataReference(data_uri='https://localhost:6064/webclient/?show=key_values-3', omero_host='localhost', omero_port=6064, omero_object_type=(text='KEY_VALUES', description='A set of key-value pairs'), omero_object_id=3), linked_references=[], channel_name=['DAPI', 'FITC', 'TRITC', 'CY5'], center_region_intensity_fraction=[0.05, 0.05, 0.05, 0.05], center_region_area_fraction=[0.1268310546875, 0.159332275390625, 0.14093017578125, 0.1522064208984375], center_of_mass_y=[236.0090531761309, 297.0, 292.0, 204.0104260651629], center_of_mass_y_relative=[-0.07808963603073871, 0.16015625, 0.140625, -0.2030842731829574], center_of_mass_x=[236.99636068334937, 227.0, 287.0, 251.00689223057645], center_of_mass_x_relative=[-0.07423296608066654, -0.11328125, 0.12109375, -0.019504327224310725], center_of_mass_distance_relative=[0.10774286291233695, 0.19616999264827686, 0.18557771125343286, 0.2040187265785253], center_geometric_y=[236.0090531761309, 297.0, 292.0, 204.0104260651629], center_geometric_y_relative=[-0.07808963603073871, 0.16015625, 0.140625, -0.2030842731829574], center_geometric_x=[236.99636068334937, 227.0, 287.0, 251.00689223057645], center_geometric_x_relative=[-0.07423296608066654, -0.11328125, 0.12109375, -0.019504327224310725], center_geometric_distance_relative=[0.10774286291233695, 0.19616999264827686, 0.18557771125343286, 0.2040187265785253], center_fitted_y=[235.99808889221057, 297.0009379257951, 292.00411544777563, 203.98902786254723], center_fitted_y_relative=[-0.07813246526480244, 0.16015991377263705, 0.14064107596787356, -0.20316785991192488], center_fitted_x=[237.0053772339774, 227.00357068326917, 287.00151961836804, 250.99780272129894], center_fitted_x_relative=[-0.07419774517977573, -0.11326730201847979, 0.12109968600925014, -0.01953983311992602], center_fitted_distance_relative=[0.10774965205567252, 0.19616492980704794, 0.1855937666004442, 0.20410532668097148], max_intensity=[57091.62356835355, 56278.285742499495, 57166.74117375512, 55617.89873299925], max_intensity_pos_y=[237.0, 297.0, 292.0, 204.0], max_intensity_pos_y_relative=[-0.07421875, 0.16015625, 0.140625, -0.203125], max_intensity_pos_x=[236.0, 227.0, 287.0, 250.0], max_intensity_pos_x_relative=[-0.078125, -0.11328125, 0.12109375, -0.0234375], max_intensity_distance_relative=[0.1077587048760447, 0.19616999264827686, 0.18557771125343286, 0.204472692629725], top_left_intensity_mean=[36463.839292579774, 35862.27258746636, 29520.33717800846, 39726.35909265667], top_left_intensity_ratio=[0.6381379271027768, 0.6369400502178595, 0.5161620012940352, 0.7135916202808764], top_center_intensity_mean=[46039.11199095022, 42274.7092760181, 41607.51470588235, 49028.842760180996], top_center_intensity_ratio=[0.8057106454376056, 0.7508295907221174, 0.7275058523199459, 0.8806890977381581], top_right_intensity_mean=[33162.05921568628, 32031.72431372549, 34489.84117647059, 39063.560784313726], top_right_intensity_ratio=[0.5803548978086887, 0.5689067262312711, 0.6030535944969679, 0.7016859906291197], middle_left_intensity_mean=[45934.04110105581, 47954.166666666664, 42057.98114630468, 44929.24547511312], middle_left_intensity_ratio=[0.8038718451034426, 0.851700885668277, 0.7353822413327857, 0.8070493699612568], middle_center_intensity_mean=[56798.69970414201, 55679.067307692305, 56528.9375, 54969.32803254438], middle_center_intensity_ratio=[0.9940095501328645, 0.9889007407589568, 0.9884063767659813, 0.9873960954993511], middle_right_intensity_mean=[42187.037307692306, 43339.36961538462, 48007.14653846154, 44213.85846153846], middle_right_intensity_ratio=[0.7382971475419104, 0.7697387328677291, 0.8394031776902633, 0.7941991065642517], bottom_left_intensity_mean=[32984.83411764706, 42017.881568627454, 35306.561568627454, 32157.029411764706], bottom_left_intensity_ratio=[0.5772533577929517, 0.7462681438019937, 0.61733392027954, 0.5776262221221948], bottom_center_intensity_mean=[42087.14153846154, 49098.57384615385, 48494.355, 40385.92615384615], bottom_center_intensity_ratio=[0.7365489147628067, 0.8720263897086148, 0.847921999580361, 0.7254392080948097], bottom_right_intensity_mean=[29846.65, 37787.9508, 40728.4264, 31570.5324], bottom_right_intensity_ratio=[0.5223333508339021, 0.6711414961636828, 0.7121350258777451, 0.5670911677534084])"
      ]
     },
     "execution_count": 17,
     "metadata": {},
     "output_type": "execute_result"
    }
   ],
   "execution_count": 17
  },
  {
   "metadata": {
    "ExecuteTime": {
     "end_time": "2024-05-07T15:01:34.222831Z",
     "start_time": "2024-05-07T15:01:34.212641Z"
    }
   },
   "cell_type": "code",
   "source": "dataset.output",
   "outputs": [
    {
     "data": {
      "text/plain": [
       "FieldIlluminationOutput(processing_application=['microscopemetrics'], processing_version=['0.1.0'], processing_datetime='2024-05-06T15:27:17.221153', processing_entity=[], processing_log=None, warnings=[], errors=[], comment=None, key_values=FieldIlluminationKeyValues(name=None, description=None, data_reference=DataReference(data_uri='https://localhost:6064/webclient/?show=key_values-3', omero_host='localhost', omero_port=6064, omero_object_type=(text='KEY_VALUES', description='A set of key-value pairs'), omero_object_id=3), linked_references=[], channel_name=['DAPI', 'FITC', 'TRITC', 'CY5'], center_region_intensity_fraction=[0.05, 0.05, 0.05, 0.05], center_region_area_fraction=[0.1268310546875, 0.159332275390625, 0.14093017578125, 0.1522064208984375], center_of_mass_y=[236.0090531761309, 297.0, 292.0, 204.0104260651629], center_of_mass_y_relative=[-0.07808963603073871, 0.16015625, 0.140625, -0.2030842731829574], center_of_mass_x=[236.99636068334937, 227.0, 287.0, 251.00689223057645], center_of_mass_x_relative=[-0.07423296608066654, -0.11328125, 0.12109375, -0.019504327224310725], center_of_mass_distance_relative=[0.10774286291233695, 0.19616999264827686, 0.18557771125343286, 0.2040187265785253], center_geometric_y=[236.0090531761309, 297.0, 292.0, 204.0104260651629], center_geometric_y_relative=[-0.07808963603073871, 0.16015625, 0.140625, -0.2030842731829574], center_geometric_x=[236.99636068334937, 227.0, 287.0, 251.00689223057645], center_geometric_x_relative=[-0.07423296608066654, -0.11328125, 0.12109375, -0.019504327224310725], center_geometric_distance_relative=[0.10774286291233695, 0.19616999264827686, 0.18557771125343286, 0.2040187265785253], center_fitted_y=[235.99808889221057, 297.0009379257951, 292.00411544777563, 203.98902786254723], center_fitted_y_relative=[-0.07813246526480244, 0.16015991377263705, 0.14064107596787356, -0.20316785991192488], center_fitted_x=[237.0053772339774, 227.00357068326917, 287.00151961836804, 250.99780272129894], center_fitted_x_relative=[-0.07419774517977573, -0.11326730201847979, 0.12109968600925014, -0.01953983311992602], center_fitted_distance_relative=[0.10774965205567252, 0.19616492980704794, 0.1855937666004442, 0.20410532668097148], max_intensity=[57091.62356835355, 56278.285742499495, 57166.74117375512, 55617.89873299925], max_intensity_pos_y=[237.0, 297.0, 292.0, 204.0], max_intensity_pos_y_relative=[-0.07421875, 0.16015625, 0.140625, -0.203125], max_intensity_pos_x=[236.0, 227.0, 287.0, 250.0], max_intensity_pos_x_relative=[-0.078125, -0.11328125, 0.12109375, -0.0234375], max_intensity_distance_relative=[0.1077587048760447, 0.19616999264827686, 0.18557771125343286, 0.204472692629725], top_left_intensity_mean=[36463.839292579774, 35862.27258746636, 29520.33717800846, 39726.35909265667], top_left_intensity_ratio=[0.6381379271027768, 0.6369400502178595, 0.5161620012940352, 0.7135916202808764], top_center_intensity_mean=[46039.11199095022, 42274.7092760181, 41607.51470588235, 49028.842760180996], top_center_intensity_ratio=[0.8057106454376056, 0.7508295907221174, 0.7275058523199459, 0.8806890977381581], top_right_intensity_mean=[33162.05921568628, 32031.72431372549, 34489.84117647059, 39063.560784313726], top_right_intensity_ratio=[0.5803548978086887, 0.5689067262312711, 0.6030535944969679, 0.7016859906291197], middle_left_intensity_mean=[45934.04110105581, 47954.166666666664, 42057.98114630468, 44929.24547511312], middle_left_intensity_ratio=[0.8038718451034426, 0.851700885668277, 0.7353822413327857, 0.8070493699612568], middle_center_intensity_mean=[56798.69970414201, 55679.067307692305, 56528.9375, 54969.32803254438], middle_center_intensity_ratio=[0.9940095501328645, 0.9889007407589568, 0.9884063767659813, 0.9873960954993511], middle_right_intensity_mean=[42187.037307692306, 43339.36961538462, 48007.14653846154, 44213.85846153846], middle_right_intensity_ratio=[0.7382971475419104, 0.7697387328677291, 0.8394031776902633, 0.7941991065642517], bottom_left_intensity_mean=[32984.83411764706, 42017.881568627454, 35306.561568627454, 32157.029411764706], bottom_left_intensity_ratio=[0.5772533577929517, 0.7462681438019937, 0.61733392027954, 0.5776262221221948], bottom_center_intensity_mean=[42087.14153846154, 49098.57384615385, 48494.355, 40385.92615384615], bottom_center_intensity_ratio=[0.7365489147628067, 0.8720263897086148, 0.847921999580361, 0.7254392080948097], bottom_right_intensity_mean=[29846.65, 37787.9508, 40728.4264, 31570.5324], bottom_right_intensity_ratio=[0.5223333508339021, 0.6711414961636828, 0.7121350258777451, 0.5670911677534084]), intensity_profiles=[Table(name='FI_60x_DAPI_2021-02-01_intensity_profiles', description='Intensity profiles of FI_60x_DAPI_2021-02-01', data_reference=DataReference(data_uri='https://localhost:6064/webclient/?show=fileannotation-4', omero_host='localhost', omero_port=6064, omero_object_type=(text='FILEANNOTATION', description='A file'), omero_object_id=4), linked_references=[], column_series=ColumnSeries(columns=[Column(name='ch00_leftTop_to_rightBottom', description=None, source_reference=None), Column(name='ch00_leftBottom_to_rightTop', description=None, source_reference=None), Column(name='ch00_center_horizontal', description=None, source_reference=None), Column(name='ch00_center_vertical', description=None, source_reference=None)]), table_data=None), Table(name='FI_60x_FITC_2021-02-01_intensity_profiles', description='Intensity profiles of FI_60x_FITC_2021-02-01', data_reference=DataReference(data_uri='https://localhost:6064/webclient/?show=fileannotation-5', omero_host='localhost', omero_port=6064, omero_object_type=(text='FILEANNOTATION', description='A file'), omero_object_id=5), linked_references=[], column_series=ColumnSeries(columns=[Column(name='ch00_leftTop_to_rightBottom', description=None, source_reference=None), Column(name='ch00_leftBottom_to_rightTop', description=None, source_reference=None), Column(name='ch00_center_horizontal', description=None, source_reference=None), Column(name='ch00_center_vertical', description=None, source_reference=None)]), table_data=None), Table(name='FI_60x_TRITC_CY5_2021-02-01_intensity_profiles', description='Intensity profiles of FI_60x_TRITC_CY5_2021-02-01', data_reference=DataReference(data_uri='https://localhost:6064/webclient/?show=fileannotation-6', omero_host='localhost', omero_port=6064, omero_object_type=(text='FILEANNOTATION', description='A file'), omero_object_id=6), linked_references=[], column_series=ColumnSeries(columns=[Column(name='ch00_leftTop_to_rightBottom', description=None, source_reference=None), Column(name='ch01_leftTop_to_rightBottom', description=None, source_reference=None), Column(name='ch00_leftBottom_to_rightTop', description=None, source_reference=None), Column(name='ch01_leftBottom_to_rightTop', description=None, source_reference=None), Column(name='ch00_center_horizontal', description=None, source_reference=None), Column(name='ch01_center_horizontal', description=None, source_reference=None), Column(name='ch00_center_vertical', description=None, source_reference=None), Column(name='ch01_center_vertical', description=None, source_reference=None)]), table_data=None)], roi_profiles=[Roi(name='Profile ROIs', description='ROIs used to compute the intensity profiles', data_reference=None, linked_references=[DataReference(data_uri='https://localhost:6064/webclient/?show=roi-1', omero_host='localhost', omero_port=6064, omero_object_type=(text='ROI', description='A region of interest'), omero_object_id=1)], points=[], lines=[Line(name='leftTop_to_rightBottom', description=None, z=None, c=None, t=None, fill_color=None, stroke_color=Color(r=0, g=0, b=255, alpha=200), stroke_width=1, x1=0.0, y1=0.0, x2=512.0, y2=512.0), Line(name='leftBottom_to_rightTop', description=None, z=None, c=None, t=None, fill_color=None, stroke_color=Color(r=0, g=0, b=255, alpha=200), stroke_width=1, x1=0.0, y1=512.0, x2=512.0, y2=0.0), Line(name='center_horizontal', description=None, z=None, c=None, t=None, fill_color=None, stroke_color=Color(r=0, g=0, b=255, alpha=200), stroke_width=1, x1=0.0, y1=256.0, x2=512.0, y2=256.0), Line(name='center_vertical', description=None, z=None, c=None, t=None, fill_color=None, stroke_color=Color(r=0, g=0, b=255, alpha=200), stroke_width=1, x1=256.0, y1=0.0, x2=256.0, y2=512.0)], rectangles=[], ellipses=[], polygons=[], masks=[]), Roi(name='Profile ROIs', description='ROIs used to compute the intensity profiles', data_reference=None, linked_references=[DataReference(data_uri='https://localhost:6064/webclient/?show=roi-2', omero_host='localhost', omero_port=6064, omero_object_type=(text='ROI', description='A region of interest'), omero_object_id=2)], points=[], lines=[Line(name='leftTop_to_rightBottom', description=None, z=None, c=None, t=None, fill_color=None, stroke_color=Color(r=0, g=0, b=255, alpha=200), stroke_width=1, x1=0.0, y1=0.0, x2=512.0, y2=512.0), Line(name='leftBottom_to_rightTop', description=None, z=None, c=None, t=None, fill_color=None, stroke_color=Color(r=0, g=0, b=255, alpha=200), stroke_width=1, x1=0.0, y1=512.0, x2=512.0, y2=0.0), Line(name='center_horizontal', description=None, z=None, c=None, t=None, fill_color=None, stroke_color=Color(r=0, g=0, b=255, alpha=200), stroke_width=1, x1=0.0, y1=256.0, x2=512.0, y2=256.0), Line(name='center_vertical', description=None, z=None, c=None, t=None, fill_color=None, stroke_color=Color(r=0, g=0, b=255, alpha=200), stroke_width=1, x1=256.0, y1=0.0, x2=256.0, y2=512.0)], rectangles=[], ellipses=[], polygons=[], masks=[]), Roi(name='Profile ROIs', description='ROIs used to compute the intensity profiles', data_reference=None, linked_references=[DataReference(data_uri='https://localhost:6064/webclient/?show=roi-3', omero_host='localhost', omero_port=6064, omero_object_type=(text='ROI', description='A region of interest'), omero_object_id=3)], points=[], lines=[Line(name='leftTop_to_rightBottom', description=None, z=None, c=None, t=None, fill_color=None, stroke_color=Color(r=0, g=0, b=255, alpha=200), stroke_width=1, x1=0.0, y1=0.0, x2=512.0, y2=512.0), Line(name='leftBottom_to_rightTop', description=None, z=None, c=None, t=None, fill_color=None, stroke_color=Color(r=0, g=0, b=255, alpha=200), stroke_width=1, x1=0.0, y1=512.0, x2=512.0, y2=0.0), Line(name='center_horizontal', description=None, z=None, c=None, t=None, fill_color=None, stroke_color=Color(r=0, g=0, b=255, alpha=200), stroke_width=1, x1=0.0, y1=256.0, x2=512.0, y2=256.0), Line(name='center_vertical', description=None, z=None, c=None, t=None, fill_color=None, stroke_color=Color(r=0, g=0, b=255, alpha=200), stroke_width=1, x1=256.0, y1=0.0, x2=256.0, y2=512.0)], rectangles=[], ellipses=[], polygons=[], masks=[])], roi_corners=Roi(name='Corner ROIs', description='ROIs used to compute the corner intensities', data_reference=None, linked_references=[DataReference(data_uri='https://localhost:6064/webclient/?show=roi-4', omero_host='localhost', omero_port=6064, omero_object_type=(text='ROI', description='A region of interest'), omero_object_id=4), DataReference(data_uri='https://localhost:6064/webclient/?show=roi-5', omero_host='localhost', omero_port=6064, omero_object_type=(text='ROI', description='A region of interest'), omero_object_id=5), DataReference(data_uri='https://localhost:6064/webclient/?show=roi-6', omero_host='localhost', omero_port=6064, omero_object_type=(text='ROI', description='A region of interest'), omero_object_id=6)], points=[], lines=[], rectangles=[Rectangle(name='top_left', description=None, z=None, c=None, t=None, fill_color=None, stroke_color=Color(r=0, g=255, b=0, alpha=200), stroke_width=1, x=0.0, y=0.0, w=51.0, h=51.0), Rectangle(name='top_center', description=None, z=None, c=None, t=None, fill_color=None, stroke_color=Color(r=0, g=255, b=0, alpha=200), stroke_width=1, x=230.0, y=0.0, w=51.0, h=51.0), Rectangle(name='top_right', description=None, z=None, c=None, t=None, fill_color=None, stroke_color=Color(r=0, g=255, b=0, alpha=200), stroke_width=1, x=461.0, y=0.0, w=51.0, h=51.0), Rectangle(name='middle_left', description=None, z=None, c=None, t=None, fill_color=None, stroke_color=Color(r=0, g=255, b=0, alpha=200), stroke_width=1, x=0.0, y=230.0, w=51.0, h=51.0), Rectangle(name='middle_center', description=None, z=None, c=None, t=None, fill_color=None, stroke_color=Color(r=0, g=255, b=0, alpha=200), stroke_width=1, x=230.0, y=230.0, w=51.0, h=51.0), Rectangle(name='middle_right', description=None, z=None, c=None, t=None, fill_color=None, stroke_color=Color(r=0, g=255, b=0, alpha=200), stroke_width=1, x=461.0, y=230.0, w=51.0, h=51.0), Rectangle(name='bottom_left', description=None, z=None, c=None, t=None, fill_color=None, stroke_color=Color(r=0, g=255, b=0, alpha=200), stroke_width=1, x=0.0, y=461.0, w=51.0, h=51.0), Rectangle(name='bottom_center', description=None, z=None, c=None, t=None, fill_color=None, stroke_color=Color(r=0, g=255, b=0, alpha=200), stroke_width=1, x=230.0, y=461.0, w=51.0, h=51.0), Rectangle(name='bottom_right', description=None, z=None, c=None, t=None, fill_color=None, stroke_color=Color(r=0, g=255, b=0, alpha=200), stroke_width=1, x=461.0, y=461.0, w=51.0, h=51.0)], ellipses=[], polygons=[], masks=[]), roi_centers_of_mass=[Roi(name='Centers of mass ROIs', description='Point ROI marking the centroids of the max intensity regions', data_reference=None, linked_references=[DataReference(data_uri='https://localhost:6064/webclient/?show=roi-7', omero_host='localhost', omero_port=6064, omero_object_type=(text='ROI', description='A region of interest'), omero_object_id=7)], points=[Point(name='ch00_center', description=None, z=None, c=0, t=None, fill_color=Color(r=255, g=0, b=0, alpha=200), stroke_color=Color(r=255, g=0, b=0, alpha=200), stroke_width=5, y=236.0090531761309, x=236.99636068334937)], lines=[], rectangles=[], ellipses=[], polygons=[], masks=[]), Roi(name='Centers of mass ROIs', description='Point ROI marking the centroids of the max intensity regions', data_reference=None, linked_references=[DataReference(data_uri='https://localhost:6064/webclient/?show=roi-8', omero_host='localhost', omero_port=6064, omero_object_type=(text='ROI', description='A region of interest'), omero_object_id=8)], points=[Point(name='ch00_center', description=None, z=None, c=0, t=None, fill_color=Color(r=255, g=0, b=0, alpha=200), stroke_color=Color(r=255, g=0, b=0, alpha=200), stroke_width=5, y=297.0, x=227.0)], lines=[], rectangles=[], ellipses=[], polygons=[], masks=[]), Roi(name='Centers of mass ROIs', description='Point ROI marking the centroids of the max intensity regions', data_reference=None, linked_references=[DataReference(data_uri='https://localhost:6064/webclient/?show=roi-9', omero_host='localhost', omero_port=6064, omero_object_type=(text='ROI', description='A region of interest'), omero_object_id=9)], points=[Point(name='ch00_center', description=None, z=None, c=0, t=None, fill_color=Color(r=255, g=0, b=0, alpha=200), stroke_color=Color(r=255, g=0, b=0, alpha=200), stroke_width=5, y=292.0, x=287.0), Point(name='ch01_center', description=None, z=None, c=1, t=None, fill_color=Color(r=255, g=0, b=0, alpha=200), stroke_color=Color(r=255, g=0, b=0, alpha=200), stroke_width=5, y=204.0104260651629, x=251.00689223057645)], lines=[], rectangles=[], ellipses=[], polygons=[], masks=[])], roi_centers_geometric=[Roi(name='Geometric centers ROIs', description='Point ROI marking the centroids of the max intensity regions', data_reference=None, linked_references=[DataReference(data_uri='https://localhost:6064/webclient/?show=roi-10', omero_host='localhost', omero_port=6064, omero_object_type=(text='ROI', description='A region of interest'), omero_object_id=10)], points=[Point(name='ch00_center', description=None, z=None, c=0, t=None, fill_color=Color(r=255, g=0, b=0, alpha=200), stroke_color=Color(r=255, g=0, b=0, alpha=200), stroke_width=5, y=236.0090531761309, x=236.99636068334937)], lines=[], rectangles=[], ellipses=[], polygons=[], masks=[]), Roi(name='Geometric centers ROIs', description='Point ROI marking the centroids of the max intensity regions', data_reference=None, linked_references=[DataReference(data_uri='https://localhost:6064/webclient/?show=roi-11', omero_host='localhost', omero_port=6064, omero_object_type=(text='ROI', description='A region of interest'), omero_object_id=11)], points=[Point(name='ch00_center', description=None, z=None, c=0, t=None, fill_color=Color(r=255, g=0, b=0, alpha=200), stroke_color=Color(r=255, g=0, b=0, alpha=200), stroke_width=5, y=297.0, x=227.0)], lines=[], rectangles=[], ellipses=[], polygons=[], masks=[]), Roi(name='Geometric centers ROIs', description='Point ROI marking the centroids of the max intensity regions', data_reference=None, linked_references=[DataReference(data_uri='https://localhost:6064/webclient/?show=roi-12', omero_host='localhost', omero_port=6064, omero_object_type=(text='ROI', description='A region of interest'), omero_object_id=12)], points=[Point(name='ch00_center', description=None, z=None, c=0, t=None, fill_color=Color(r=255, g=0, b=0, alpha=200), stroke_color=Color(r=255, g=0, b=0, alpha=200), stroke_width=5, y=292.0, x=287.0), Point(name='ch01_center', description=None, z=None, c=1, t=None, fill_color=Color(r=255, g=0, b=0, alpha=200), stroke_color=Color(r=255, g=0, b=0, alpha=200), stroke_width=5, y=204.0104260651629, x=251.00689223057645)], lines=[], rectangles=[], ellipses=[], polygons=[], masks=[])], roi_centers_fitted=[Roi(name='Fitted centers ROIs', description='Point ROI marking the centroids of the max intensity regions', data_reference=None, linked_references=[DataReference(data_uri='https://localhost:6064/webclient/?show=roi-13', omero_host='localhost', omero_port=6064, omero_object_type=(text='ROI', description='A region of interest'), omero_object_id=13)], points=[Point(name='ch00_center', description=None, z=None, c=0, t=None, fill_color=Color(r=255, g=0, b=0, alpha=200), stroke_color=Color(r=255, g=0, b=0, alpha=200), stroke_width=5, y=235.99808889221057, x=237.0053772339774)], lines=[], rectangles=[], ellipses=[], polygons=[], masks=[]), Roi(name='Fitted centers ROIs', description='Point ROI marking the centroids of the max intensity regions', data_reference=None, linked_references=[DataReference(data_uri='https://localhost:6064/webclient/?show=roi-14', omero_host='localhost', omero_port=6064, omero_object_type=(text='ROI', description='A region of interest'), omero_object_id=14)], points=[Point(name='ch00_center', description=None, z=None, c=0, t=None, fill_color=Color(r=255, g=0, b=0, alpha=200), stroke_color=Color(r=255, g=0, b=0, alpha=200), stroke_width=5, y=297.0009379257951, x=227.00357068326917)], lines=[], rectangles=[], ellipses=[], polygons=[], masks=[]), Roi(name='Fitted centers ROIs', description='Point ROI marking the centroids of the max intensity regions', data_reference=None, linked_references=[DataReference(data_uri='https://localhost:6064/webclient/?show=roi-15', omero_host='localhost', omero_port=6064, omero_object_type=(text='ROI', description='A region of interest'), omero_object_id=15)], points=[Point(name='ch00_center', description=None, z=None, c=0, t=None, fill_color=Color(r=255, g=0, b=0, alpha=200), stroke_color=Color(r=255, g=0, b=0, alpha=200), stroke_width=5, y=292.00411544777563, x=287.00151961836804), Point(name='ch01_center', description=None, z=None, c=1, t=None, fill_color=Color(r=255, g=0, b=0, alpha=200), stroke_color=Color(r=255, g=0, b=0, alpha=200), stroke_width=5, y=203.98902786254723, x=250.99780272129894)], lines=[], rectangles=[], ellipses=[], polygons=[], masks=[])], roi_centers_max_intensity=[Roi(name='Max intensity ROIs', description='Point ROI marking the centroids of the max intensity regions', data_reference=None, linked_references=[DataReference(data_uri='https://localhost:6064/webclient/?show=roi-16', omero_host='localhost', omero_port=6064, omero_object_type=(text='ROI', description='A region of interest'), omero_object_id=16)], points=[Point(name='ch00_center', description=None, z=None, c=0, t=None, fill_color=Color(r=255, g=0, b=0, alpha=200), stroke_color=Color(r=255, g=0, b=0, alpha=200), stroke_width=5, y=237.0, x=236.0)], lines=[], rectangles=[], ellipses=[], polygons=[], masks=[]), Roi(name='Max intensity ROIs', description='Point ROI marking the centroids of the max intensity regions', data_reference=None, linked_references=[DataReference(data_uri='https://localhost:6064/webclient/?show=roi-17', omero_host='localhost', omero_port=6064, omero_object_type=(text='ROI', description='A region of interest'), omero_object_id=17)], points=[Point(name='ch00_center', description=None, z=None, c=0, t=None, fill_color=Color(r=255, g=0, b=0, alpha=200), stroke_color=Color(r=255, g=0, b=0, alpha=200), stroke_width=5, y=297.0, x=227.0)], lines=[], rectangles=[], ellipses=[], polygons=[], masks=[]), Roi(name='Max intensity ROIs', description='Point ROI marking the centroids of the max intensity regions', data_reference=None, linked_references=[DataReference(data_uri='https://localhost:6064/webclient/?show=roi-18', omero_host='localhost', omero_port=6064, omero_object_type=(text='ROI', description='A region of interest'), omero_object_id=18)], points=[Point(name='ch00_center', description=None, z=None, c=0, t=None, fill_color=Color(r=255, g=0, b=0, alpha=200), stroke_color=Color(r=255, g=0, b=0, alpha=200), stroke_width=5, y=292.0, x=287.0), Point(name='ch01_center', description=None, z=None, c=1, t=None, fill_color=Color(r=255, g=0, b=0, alpha=200), stroke_color=Color(r=255, g=0, b=0, alpha=200), stroke_width=5, y=204.0, x=250.0)], lines=[], rectangles=[], ellipses=[], polygons=[], masks=[])], roi_center_region=[Roi(name='Center region ROIs', description='Mask ROIs marking the center region of the image', data_reference=None, linked_references=[DataReference(data_uri='https://localhost:6064/webclient/?show=roi-19', omero_host='localhost', omero_port=6064, omero_object_type=(text='ROI', description='A region of interest'), omero_object_id=19)], points=[], lines=[], rectangles=[], ellipses=[], polygons=[], masks=[Mask(name='ch00_center_region', description=None, z=None, c=0, t=None, fill_color=Color(r=255, g=200, b=60, alpha=128), stroke_color=None, stroke_width=1, y=0, x=0, mask=ImageMask(name=None, description=None, data_reference=None, linked_references=[], shape_x=512, shape_y=512, acquisition_datetime='2024-05-06T15:27:17.213712', shape_z=1, shape_c=1, shape_t=1, voxel_size_x_micron=None, voxel_size_y_micron=None, voxel_size_z_micron=None, time_series=None, channel_series=None, source_images=[], array_data=None))]), Roi(name='Center region ROIs', description='Mask ROIs marking the center region of the image', data_reference=None, linked_references=[DataReference(data_uri='https://localhost:6064/webclient/?show=roi-20', omero_host='localhost', omero_port=6064, omero_object_type=(text='ROI', description='A region of interest'), omero_object_id=20)], points=[], lines=[], rectangles=[], ellipses=[], polygons=[], masks=[Mask(name='ch00_center_region', description=None, z=None, c=0, t=None, fill_color=Color(r=255, g=200, b=60, alpha=128), stroke_color=None, stroke_width=1, y=0, x=0, mask=ImageMask(name=None, description=None, data_reference=None, linked_references=[], shape_x=512, shape_y=512, acquisition_datetime='2024-05-06T15:27:17.215971', shape_z=1, shape_c=1, shape_t=1, voxel_size_x_micron=None, voxel_size_y_micron=None, voxel_size_z_micron=None, time_series=None, channel_series=None, source_images=[], array_data=None))]), Roi(name='Center region ROIs', description='Mask ROIs marking the center region of the image', data_reference=None, linked_references=[DataReference(data_uri='https://localhost:6064/webclient/?show=roi-21', omero_host='localhost', omero_port=6064, omero_object_type=(text='ROI', description='A region of interest'), omero_object_id=21)], points=[], lines=[], rectangles=[], ellipses=[], polygons=[], masks=[Mask(name='ch00_center_region', description=None, z=None, c=0, t=None, fill_color=Color(r=255, g=200, b=60, alpha=128), stroke_color=None, stroke_width=1, y=0, x=0, mask=ImageMask(name=None, description=None, data_reference=None, linked_references=[], shape_x=512, shape_y=512, acquisition_datetime='2024-05-06T15:27:17.218525', shape_z=1, shape_c=1, shape_t=1, voxel_size_x_micron=None, voxel_size_y_micron=None, voxel_size_z_micron=None, time_series=None, channel_series=None, source_images=[], array_data=None)), Mask(name='ch01_center_region', description=None, z=None, c=1, t=None, fill_color=Color(r=255, g=200, b=60, alpha=128), stroke_color=None, stroke_width=1, y=0, x=0, mask=ImageMask(name=None, description=None, data_reference=None, linked_references=[], shape_x=512, shape_y=512, acquisition_datetime='2024-05-06T15:27:17.220989', shape_z=1, shape_c=1, shape_t=1, voxel_size_x_micron=None, voxel_size_y_micron=None, voxel_size_z_micron=None, time_series=None, channel_series=None, source_images=[], array_data=None))])])"
      ]
     },
     "execution_count": 18,
     "metadata": {},
     "output_type": "execute_result"
    }
   ],
   "execution_count": 18
  },
  {
   "metadata": {
    "ExecuteTime": {
     "end_time": "2024-05-07T15:02:25.205785Z",
     "start_time": "2024-05-07T15:02:25.199072Z"
    }
   },
   "cell_type": "code",
   "source": "import get_key_values from load",
   "outputs": [
    {
     "ename": "SyntaxError",
     "evalue": "invalid syntax (1037727524.py, line 1)",
     "output_type": "error",
     "traceback": [
      "\u001B[0;36m  Cell \u001B[0;32mIn[22], line 1\u001B[0;36m\u001B[0m\n\u001B[0;31m    import get_key_values from load\u001B[0m\n\u001B[0m                          ^\u001B[0m\n\u001B[0;31mSyntaxError\u001B[0m\u001B[0;31m:\u001B[0m invalid syntax\n"
     ]
    }
   ],
   "execution_count": 22
  },
  {
   "metadata": {
    "ExecuteTime": {
     "end_time": "2024-05-07T15:03:27.218145Z",
     "start_time": "2024-05-07T15:03:27.213251Z"
    }
   },
   "cell_type": "code",
   "source": "var = dataset.output",
   "outputs": [],
   "execution_count": 24
  },
  {
   "metadata": {
    "ExecuteTime": {
     "end_time": "2024-05-07T15:03:38.342826Z",
     "start_time": "2024-05-07T15:03:38.332602Z"
    }
   },
   "cell_type": "code",
   "source": [
    "data_dict = var.key_values.__dict__\n",
    "data_dict = {\n",
    "    key: value[0] if isinstance(value, list) and value else value\n",
    "    for key, value in data_dict.items()\n",
    "}\n",
    "data_list = list(data_dict.items())\n",
    "df = pd.DataFrame(data_list, columns=[\"Key\", \"Value\"])\n",
    "df.Key = df.Key.str.replace(\"_\", \" \").str.title()"
   ],
   "outputs": [],
   "execution_count": 26
  },
  {
   "metadata": {},
   "cell_type": "code",
   "outputs": [],
   "execution_count": null,
   "source": ""
  }
 ],
 "metadata": {
  "kernelspec": {
   "display_name": ".venv",
   "language": "python",
   "name": "python3"
  },
  "language_info": {
   "codemirror_mode": {
    "name": "ipython",
    "version": 3
   },
   "file_extension": ".py",
   "mimetype": "text/x-python",
   "name": "python",
   "nbconvert_exporter": "python",
   "pygments_lexer": "ipython3",
   "version": "3.11.6"
  }
 },
 "nbformat": 4,
 "nbformat_minor": 2
}
