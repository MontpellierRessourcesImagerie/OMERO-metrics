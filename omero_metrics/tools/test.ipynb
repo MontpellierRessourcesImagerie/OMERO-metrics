{
 "cells": [
  {
   "cell_type": "code",
   "execution_count": 2,
   "metadata": {},
   "outputs": [],
   "source": [
    "from omero.gateway import BlitzGateway"
   ]
  },
  {
   "cell_type": "code",
   "execution_count": 14,
   "metadata": {},
   "outputs": [
    {
     "data": {
      "text/plain": [
       "True"
      ]
     },
     "execution_count": 14,
     "metadata": {},
     "output_type": "execute_result"
    }
   ],
   "source": [
    "conn = BlitzGateway(\"Asterix\", \"abc123\",group='microscope_1', host=\"localhost\", port=6064, secure=True)\n",
    "conn.connect()"
   ]
  },
  {
   "cell_type": "code",
   "execution_count": 32,
   "metadata": {},
   "outputs": [
    {
     "name": "stdout",
     "output_type": "stream",
     "text": [
      "Current user:\n",
      "   ID: 3\n",
      "   Username: Asterix\n",
      "   Full Name: Asterix CoreFacilityStaff\n",
      "   Is Admin: False\n",
      "[]\n",
      "Member of:\n",
      "   ID: core_facility_staff  Name: 4\n",
      "   ID: microscope_1  Name: 5\n",
      "   ID: microscope_2  Name: 6\n",
      "Current group:  core_facility_staff\n",
      "   Group owners:\n",
      "     ID: 2 Abraracurcix Name: Abraracurcix CoreFacilityManager\n",
      "   Group members:\n",
      "     ID: 5 Panoramix Name: Panoramix CoreFacilityStaff\n",
      "     ID: 3 Asterix Name: Asterix CoreFacilityStaff\n",
      "     ID: 4 Obelix Name: Obelix CoreFacilityStaff\n",
      "Owner of:\n",
      "   ID:  microscope_1  Name: 5\n",
      "   ID:  microscope_2  Name: 6\n",
      "Admins:\n",
      "   ID: 0 root Name: root root\n"
     ]
    }
   ],
   "source": [
    "user = conn.getUser()\n",
    "print(\"Current user:\")\n",
    "print(\"   ID:\", user.getId())\n",
    "print(\"   Username:\", user.getName())\n",
    "print(\"   Full Name:\", user.getFullName())\n",
    "\n",
    "# Check if you are an Administrator\n",
    "print(\"   Is Admin:\", conn.isAdmin())\n",
    "if not conn.isFullAdmin():\n",
    "    # If 'Restricted Administrator' show privileges\n",
    "    print(conn.getCurrentAdminPrivileges())\n",
    "\n",
    "print(\"Member of:\")\n",
    "for g in conn.getGroupsMemberOf():\n",
    "    print(\"   ID:\", g.getName(), \" Name:\", g.getId())\n",
    "group = conn.getGroupFromContext()\n",
    "print(\"Current group: \", group.getName())\n",
    "\n",
    "# List the group owners and other members\n",
    "owners, members = group.groupSummary()\n",
    "print(\"   Group owners:\")\n",
    "for o in owners:\n",
    "    print(\"     ID: %s %s Name: %s\" % (\n",
    "        o.getId(), o.getOmeName(), o.getFullName()))\n",
    "print(\"   Group members:\")\n",
    "for m in members:\n",
    "    print(\"     ID: %s %s Name: %s\" % (\n",
    "        m.getId(), m.getOmeName(), m.getFullName()))\n",
    "\n",
    "print(\"Owner of:\")\n",
    "for g in conn.listOwnedGroups():\n",
    "    print(\"   ID: \", g.getName(), \" Name:\", g.getId())\n",
    "\n",
    "# Added in OMERO 5.0\n",
    "print(\"Admins:\")\n",
    "for exp in conn.getAdministrators():\n",
    "    print(\"   ID: %s %s Name: %s\" % (\n",
    "        exp.getId(), exp.getOmeName(), exp.getFullName()))\n",
    "\n",
    "# The 'context' of our current session\n",
    "ctx = conn.getEventContext()\n",
    "# print(ctx)     # for more info"
   ]
  },
  {
   "cell_type": "code",
   "execution_count": 4,
   "metadata": {},
   "outputs": [
    {
     "name": "stdout",
     "output_type": "stream",
     "text": [
      "   Group owners:\n",
      "     ID: 3 Asterix Name: Asterix CoreFacilityStaff\n",
      "     ID: 4 Obelix Name: Obelix CoreFacilityStaff\n",
      "   Group members:\n",
      "     ID: 5 Panoramix Name: Panoramix CoreFacilityStaff\n",
      "     ID: 2 Abraracurcix Name: Abraracurcix CoreFacilityManager\n",
      "   Group owners:\n",
      "     ID: 3 Asterix Name: Asterix CoreFacilityStaff\n",
      "     ID: 5 Panoramix Name: Panoramix CoreFacilityStaff\n",
      "   Group members:\n",
      "     ID: 4 Obelix Name: Obelix CoreFacilityStaff\n",
      "     ID: 2 Abraracurcix Name: Abraracurcix CoreFacilityManager\n"
     ]
    }
   ],
   "source": [
    "for group in conn.listOwnedGroups():\n",
    "    owners, members = group.groupSummary()\n",
    "    print(\"   Group owners:\")\n",
    "    for o in owners:\n",
    "        print(\"     ID: %s %s Name: %s\" % (\n",
    "            o.getId(), o.getOmeName(), o.getFullName()))\n",
    "    print(\"   Group members:\")\n",
    "    for m in members:\n",
    "        print(\"     ID: %s %s Name: %s\" % (\n",
    "            m.getId(), m.getOmeName(), m.getFullName()))"
   ]
  },
  {
   "cell_type": "code",
   "execution_count": 45,
   "metadata": {},
   "outputs": [],
   "source": []
  },
  {
   "cell_type": "code",
   "execution_count": 67,
   "metadata": {},
   "outputs": [
    {
     "name": "stdout",
     "output_type": "stream",
     "text": [
      "------------------------------microscope_1----------------------------------\n",
      "Field Illumination 60x 1\n",
      "Field Illumination 10x 2\n",
      "PSF beads 60x 3\n",
      "------------------------------microscope_2----------------------------------\n",
      "Field Illumination 40x 4\n",
      "Field Illumination 20x 5\n",
      "PSF beads 40x 6\n"
     ]
    }
   ],
   "source": [
    "for i in conn.listOwnedGroups():\n",
    "    print(f'------------------------------{i.getName()}----------------------------------')\n",
    "    conn.SERVICE_OPTS.setOmeroGroup(i.getId())\n",
    "    for project in conn.getObjects(\"Project\"):\n",
    "        print(project.getName(), project.getId())"
   ]
  },
  {
   "cell_type": "code",
   "execution_count": 28,
   "metadata": {},
   "outputs": [],
   "source": [
    "g = conn.listProjects()"
   ]
  },
  {
   "cell_type": "code",
   "execution_count": 47,
   "metadata": {},
   "outputs": [
    {
     "name": "stdout",
     "output_type": "stream",
     "text": [
      "Field Illumination 60x 1\n",
      "Field Illumination 10x 2\n",
      "Field Illumination 40x 4\n",
      "Field Illumination 20x 5\n",
      "PSF beads 60x 3\n",
      "PSF beads 40x 6\n"
     ]
    }
   ],
   "source": [
    "for project in conn.getObjects(\"Project\", opts={'group': 4}):\n",
    "    print(project.getName(), project.getId())"
   ]
  },
  {
   "cell_type": "code",
   "execution_count": null,
   "metadata": {},
   "outputs": [],
   "source": [
    "def get_data_ids(conn):\n",
    "    for i in conn.listOwnedGroups():\n",
    "        conn.SERVICE_OPTS.setOmeroGroup(i.getId())\n",
    "        for project in conn.getObjects(\"Project\"):\n",
    "            print(project.getName(), project.getId())"
   ]
  },
  {
   "cell_type": "code",
   "execution_count": 68,
   "metadata": {},
   "outputs": [
    {
     "name": "stdout",
     "output_type": "stream",
     "text": [
      "FI_60x_DAPI_2021-02-01 1\n",
      "FI_60x_FITC_2021-02-01 2\n",
      "FI_60x_TRITC_CY5_2021-02-01 3\n",
      "FI_60x_DAPI_2021-03-01 4\n",
      "FI_60x_FITC_2021-03-01 5\n",
      "FI_60x_TRITC_CY5_2021-03-01 6\n",
      "FI_10x_DAPI_2021-03-04 7\n",
      "FI_10x_FITC_2021-03-04 8\n",
      "FI_10x_TRITC_CY5_2021-03-04 9\n",
      "FI_10x_DAPI_2021-05-04 10\n",
      "FI_10x_FITC_2021-05-04 11\n",
      "FI_10x_TRITC_CY5_2021-05-04 12\n",
      "FI_10x_DAPI_2021-07-04 13\n",
      "FI_10x_FITC_2021-07-04 14\n",
      "FI_10x_TRITC_CY5_2021-07-04 15\n",
      "FI_10x_DAPI_2021-09-04 16\n",
      "FI_10x_FITC_2021-09-04 17\n",
      "FI_10x_TRITC_CY5_2021-09-04 18\n",
      "FI_60x_DAPI_2021-02-01 21\n",
      "FI_60x_FITC_2021-02-01 22\n",
      "FI_60x_TRITC_CY5_2021-02-01 23\n",
      "FI_60x_DAPI_2021-03-01 24\n",
      "FI_60x_FITC_2021-03-01 25\n",
      "FI_60x_TRITC_CY5_2021-03-01 26\n",
      "FI_10x_DAPI_2021-03-04 27\n",
      "FI_10x_FITC_2021-03-04 28\n",
      "FI_10x_TRITC_CY5_2021-03-04 29\n",
      "FI_10x_DAPI_2021-05-04 30\n",
      "FI_10x_FITC_2021-05-04 31\n",
      "FI_10x_TRITC_CY5_2021-05-04 32\n",
      "FI_10x_DAPI_2021-07-04 33\n",
      "FI_10x_FITC_2021-07-04 34\n",
      "FI_10x_TRITC_CY5_2021-07-04 35\n",
      "FI_10x_DAPI_2021-09-04 36\n",
      "FI_10x_FITC_2021-09-04 37\n",
      "FI_10x_TRITC_CY5_2021-09-04 38\n",
      "PSF-beads_60x_2021-02-01 19\n",
      "PSF-beads_60x_2021-03-01 20\n",
      "PSF-beads_60x_2021-02-01 39\n",
      "PSF-beads_60x_2021-03-01 40\n"
     ]
    }
   ],
   "source": [
    "conn.SERVICE_OPTS.setOmeroGroup(-1)\n",
    "for image in conn.getObjects(\"Image\"):\n",
    "    print(image.getName(), image.getId())"
   ]
  },
  {
   "cell_type": "code",
   "execution_count": 25,
   "metadata": {},
   "outputs": [],
   "source": [
    "dataset_4 = conn.getObject(\"Dataset\", 4)\n",
    "dataset_6 = conn.getObject(\"Dataset\", 6)\n"
   ]
  },
  {
   "cell_type": "code",
   "execution_count": 28,
   "metadata": {},
   "outputs": [
    {
     "data": {
      "text/plain": [
       "<MapAnnotationWrapper id=6>"
      ]
     },
     "execution_count": 28,
     "metadata": {},
     "output_type": "execute_result"
    }
   ],
   "source": [
    "dataset_4.getAnnotation()"
   ]
  },
  {
   "cell_type": "code",
   "execution_count": 34,
   "metadata": {},
   "outputs": [
    {
     "data": {
      "text/plain": [
       "{'TagAnnotation': 0,\n",
       " 'FileAnnotation': 0,\n",
       " 'CommentAnnotation': 0,\n",
       " 'LongAnnotation': 0,\n",
       " 'MapAnnotation': 2,\n",
       " 'OtherAnnotation': 0}"
      ]
     },
     "execution_count": 34,
     "metadata": {},
     "output_type": "execute_result"
    }
   ],
   "source": [
    "dataset_4.getAnnotationCounts()"
   ]
  },
  {
   "cell_type": "code",
   "execution_count": 35,
   "metadata": {},
   "outputs": [],
   "source": [
    "an= conn.getObject(\"MapAnnotation\", 6)\n"
   ]
  },
  {
   "cell_type": "code",
   "execution_count": 33,
   "metadata": {},
   "outputs": [
    {
     "data": {
      "text/plain": [
       "'microscope-metrics parameters for the analysis on the dataset'"
      ]
     },
     "execution_count": 33,
     "metadata": {},
     "output_type": "execute_result"
    }
   ],
   "source": [
    "an.GET"
   ]
  },
  {
   "cell_type": "code",
   "execution_count": 36,
   "metadata": {},
   "outputs": [
    {
     "name": "stdout",
     "output_type": "stream",
     "text": [
      "Found Annotation with namespace:  https://w3id.org/MontpellierRessourcesImagerie/microscopemetrics-schema/FieldIlluminationInput\n"
     ]
    }
   ],
   "source": [
    "ann = dataset_4.getAnnotation()\n",
    "print(\"Found Annotation with namespace: \", ann.getNs())"
   ]
  },
  {
   "cell_type": "code",
   "execution_count": 40,
   "metadata": {},
   "outputs": [
    {
     "name": "stdout",
     "output_type": "stream",
     "text": [
      "Found Annotation with namespace:  https://w3id.org/MontpellierRessourcesImagerie/microscopemetrics-schema/FieldIlluminationInput\n"
     ]
    }
   ],
   "source": [
    "ann = dataset_4.getAnnotation()\n",
    "print(\"Found Annotation with namespace: \", ann.getNs())"
   ]
  },
  {
   "cell_type": "code",
   "execution_count": 62,
   "metadata": {},
   "outputs": [],
   "source": [
    "def get_dataset_ids_lists(conn, project_id):\n",
    "    \"\"\"\n",
    "    Get the processed and unprocessed dataset ids for a project\n",
    "    \"\"\"\n",
    "    processed_datasets = {}\n",
    "    unprocessed_datasets = {}\n",
    "    project = conn.getObject(\"Project\", project_id)\n",
    "    for dataset in project.listChildren():\n",
    "        try:\n",
    "            dataset.getAnnotation().getNs()\n",
    "            processed_datasets.update(dataset.getId())\n",
    "        except AttributeError:\n",
    "            unprocessed_datasets.update({'ID': dataset.getId())\n",
    "    return processed_datasets, unprocessed_datasets"
   ]
  },
  {
   "cell_type": "code",
   "execution_count": 63,
   "metadata": {},
   "outputs": [
    {
     "ename": "TypeError",
     "evalue": "'int' object is not iterable",
     "output_type": "error",
     "traceback": [
      "\u001b[0;31m---------------------------------------------------------------------------\u001b[0m",
      "\u001b[0;31mTypeError\u001b[0m                                 Traceback (most recent call last)",
      "Cell \u001b[0;32mIn[63], line 1\u001b[0m\n\u001b[0;32m----> 1\u001b[0m l, n \u001b[38;5;241m=\u001b[39m \u001b[43mget_dataset_ids_lists\u001b[49m\u001b[43m(\u001b[49m\u001b[43mconn\u001b[49m\u001b[43m,\u001b[49m\u001b[43m \u001b[49m\u001b[38;5;241;43m3\u001b[39;49m\u001b[43m)\u001b[49m\n",
      "Cell \u001b[0;32mIn[62], line 11\u001b[0m, in \u001b[0;36mget_dataset_ids_lists\u001b[0;34m(conn, project_id)\u001b[0m\n\u001b[1;32m      9\u001b[0m \u001b[38;5;28;01mtry\u001b[39;00m:\n\u001b[1;32m     10\u001b[0m     dataset\u001b[38;5;241m.\u001b[39mgetAnnotation()\u001b[38;5;241m.\u001b[39mgetNs()\n\u001b[0;32m---> 11\u001b[0m     \u001b[43mprocessed_datasets\u001b[49m\u001b[38;5;241;43m.\u001b[39;49m\u001b[43mupdate\u001b[49m\u001b[43m(\u001b[49m\u001b[43mdataset\u001b[49m\u001b[38;5;241;43m.\u001b[39;49m\u001b[43mgetId\u001b[49m\u001b[43m(\u001b[49m\u001b[43m)\u001b[49m\u001b[43m)\u001b[49m\n\u001b[1;32m     12\u001b[0m \u001b[38;5;28;01mexcept\u001b[39;00m \u001b[38;5;167;01mAttributeError\u001b[39;00m:\n\u001b[1;32m     13\u001b[0m     unprocessed_datasets\u001b[38;5;241m.\u001b[39mupdate(dataset\u001b[38;5;241m.\u001b[39mgetId())\n",
      "\u001b[0;31mTypeError\u001b[0m: 'int' object is not iterable"
     ]
    }
   ],
   "source": [
    "l, n = get_dataset_ids_lists(conn, 3)"
   ]
  },
  {
   "cell_type": "code",
   "execution_count": 60,
   "metadata": {},
   "outputs": [
    {
     "data": {
      "text/plain": [
       "{'ID': 5}"
      ]
     },
     "execution_count": 60,
     "metadata": {},
     "output_type": "execute_result"
    }
   ],
   "source": [
    "l"
   ]
  },
  {
   "cell_type": "code",
   "execution_count": 61,
   "metadata": {},
   "outputs": [
    {
     "data": {
      "text/plain": [
       "{}"
      ]
     },
     "execution_count": 61,
     "metadata": {},
     "output_type": "execute_result"
    }
   ],
   "source": [
    "n"
   ]
  },
  {
   "cell_type": "code",
   "execution_count": null,
   "metadata": {},
   "outputs": [],
   "source": []
  }
 ],
 "metadata": {
  "kernelspec": {
   "display_name": ".venv",
   "language": "python",
   "name": "python3"
  },
  "language_info": {
   "codemirror_mode": {
    "name": "ipython",
    "version": 3
   },
   "file_extension": ".py",
   "mimetype": "text/x-python",
   "name": "python",
   "nbconvert_exporter": "python",
   "pygments_lexer": "ipython3",
   "version": "3.11.6"
  }
 },
 "nbformat": 4,
 "nbformat_minor": 2
}
