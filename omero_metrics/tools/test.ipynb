{
 "cells": [
  {
   "cell_type": "code",
   "execution_count": 61,
   "metadata": {},
   "outputs": [],
   "source": [
    "from omero.gateway import BlitzGateway\n",
    "from data_preperation import *"
   ]
  },
  {
   "cell_type": "code",
   "execution_count": 62,
   "metadata": {},
   "outputs": [
    {
     "data": {
      "text/plain": [
       "True"
      ]
     },
     "execution_count": 62,
     "metadata": {},
     "output_type": "execute_result"
    }
   ],
   "source": [
    "conn = BlitzGateway(\"Asterix\", \"abc123\",group='microscope_1', host=\"localhost\", port=6064, secure=True)\n",
    "conn.connect()"
   ]
  },
  {
   "cell_type": "code",
   "execution_count": 32,
   "metadata": {},
   "outputs": [
    {
     "name": "stdout",
     "output_type": "stream",
     "text": [
      "Current user:\n",
      "   ID: 3\n",
      "   Username: Asterix\n",
      "   Full Name: Asterix CoreFacilityStaff\n",
      "   Is Admin: False\n",
      "[]\n",
      "Member of:\n",
      "   ID: core_facility_staff  Name: 4\n",
      "   ID: microscope_1  Name: 5\n",
      "   ID: microscope_2  Name: 6\n",
      "Current group:  core_facility_staff\n",
      "   Group owners:\n",
      "     ID: 2 Abraracurcix Name: Abraracurcix CoreFacilityManager\n",
      "   Group members:\n",
      "     ID: 5 Panoramix Name: Panoramix CoreFacilityStaff\n",
      "     ID: 3 Asterix Name: Asterix CoreFacilityStaff\n",
      "     ID: 4 Obelix Name: Obelix CoreFacilityStaff\n",
      "Owner of:\n",
      "   ID:  microscope_1  Name: 5\n",
      "   ID:  microscope_2  Name: 6\n",
      "Admins:\n",
      "   ID: 0 root Name: root root\n"
     ]
    }
   ],
   "source": [
    "user = conn.getUser()\n",
    "print(\"Current user:\")\n",
    "print(\"   ID:\", user.getId())\n",
    "print(\"   Username:\", user.getName())\n",
    "print(\"   Full Name:\", user.getFullName())\n",
    "\n",
    "# Check if you are an Administrator\n",
    "print(\"   Is Admin:\", conn.isAdmin())\n",
    "if not conn.isFullAdmin():\n",
    "    # If 'Restricted Administrator' show privileges\n",
    "    print(conn.getCurrentAdminPrivileges())\n",
    "\n",
    "print(\"Member of:\")\n",
    "for g in conn.getGroupsMemberOf():\n",
    "    print(\"   ID:\", g.getName(), \" Name:\", g.getId())\n",
    "group = conn.getGroupFromContext()\n",
    "print(\"Current group: \", group.getName())\n",
    "\n",
    "# List the group owners and other members\n",
    "owners, members = group.groupSummary()\n",
    "print(\"   Group owners:\")\n",
    "for o in owners:\n",
    "    print(\"     ID: %s %s Name: %s\" % (\n",
    "        o.getId(), o.getOmeName(), o.getFullName()))\n",
    "print(\"   Group members:\")\n",
    "for m in members:\n",
    "    print(\"     ID: %s %s Name: %s\" % (\n",
    "        m.getId(), m.getOmeName(), m.getFullName()))\n",
    "\n",
    "print(\"Owner of:\")\n",
    "for g in conn.listOwnedGroups():\n",
    "    print(\"   ID: \", g.getName(), \" Name:\", g.getId())\n",
    "\n",
    "# Added in OMERO 5.0\n",
    "print(\"Admins:\")\n",
    "for exp in conn.getAdministrators():\n",
    "    print(\"   ID: %s %s Name: %s\" % (\n",
    "        exp.getId(), exp.getOmeName(), exp.getFullName()))\n",
    "\n",
    "# The 'context' of our current session\n",
    "ctx = conn.getEventContext()\n",
    "# print(ctx)     # for more info"
   ]
  },
  {
   "cell_type": "code",
   "execution_count": 4,
   "metadata": {},
   "outputs": [
    {
     "name": "stdout",
     "output_type": "stream",
     "text": [
      "   Group owners:\n",
      "     ID: 3 Asterix Name: Asterix CoreFacilityStaff\n",
      "     ID: 4 Obelix Name: Obelix CoreFacilityStaff\n",
      "   Group members:\n",
      "     ID: 5 Panoramix Name: Panoramix CoreFacilityStaff\n",
      "     ID: 2 Abraracurcix Name: Abraracurcix CoreFacilityManager\n",
      "   Group owners:\n",
      "     ID: 3 Asterix Name: Asterix CoreFacilityStaff\n",
      "     ID: 5 Panoramix Name: Panoramix CoreFacilityStaff\n",
      "   Group members:\n",
      "     ID: 4 Obelix Name: Obelix CoreFacilityStaff\n",
      "     ID: 2 Abraracurcix Name: Abraracurcix CoreFacilityManager\n"
     ]
    }
   ],
   "source": [
    "for group in conn.listOwnedGroups():\n",
    "    owners, members = group.groupSummary()\n",
    "    print(\"   Group owners:\")\n",
    "    for o in owners:\n",
    "        print(\"     ID: %s %s Name: %s\" % (\n",
    "            o.getId(), o.getOmeName(), o.getFullName()))\n",
    "    print(\"   Group members:\")\n",
    "    for m in members:\n",
    "        print(\"     ID: %s %s Name: %s\" % (\n",
    "            m.getId(), m.getOmeName(), m.getFullName()))"
   ]
  },
  {
   "cell_type": "code",
   "execution_count": 52,
   "metadata": {},
   "outputs": [],
   "source": [
    "roi_ids = [r.getId().getValue() for r in result.rois]"
   ]
  },
  {
   "cell_type": "code",
   "execution_count": 53,
   "metadata": {},
   "outputs": [
    {
     "data": {
      "text/plain": [
       "[7, 10, 13, 16, 19, 22]"
      ]
     },
     "execution_count": 53,
     "metadata": {},
     "output_type": "execute_result"
    }
   ],
   "source": [
    "roi_ids"
   ]
  },
  {
   "cell_type": "code",
   "execution_count": 63,
   "metadata": {},
   "outputs": [
    {
     "ename": "AttributeError",
     "evalue": "'NoneType' object has no attribute 'getValue'",
     "output_type": "error",
     "traceback": [
      "\u001b[0;31m---------------------------------------------------------------------------\u001b[0m",
      "\u001b[0;31mAttributeError\u001b[0m                            Traceback (most recent call last)",
      "Cell \u001b[0;32mIn[63], line 3\u001b[0m\n\u001b[1;32m      1\u001b[0m roi_service \u001b[38;5;241m=\u001b[39m conn\u001b[38;5;241m.\u001b[39mgetRoiService()\n\u001b[1;32m      2\u001b[0m result \u001b[38;5;241m=\u001b[39m roi_service\u001b[38;5;241m.\u001b[39mfindByImage(\u001b[38;5;28mint\u001b[39m(\u001b[38;5;241m3\u001b[39m), \u001b[38;5;28;01mNone\u001b[39;00m, conn\u001b[38;5;241m.\u001b[39mSERVICE_OPTS)\n\u001b[0;32m----> 3\u001b[0m shapes_rectangle, shapes_line \u001b[38;5;241m=\u001b[39m \u001b[43mget_rois_omero\u001b[49m\u001b[43m(\u001b[49m\u001b[43mresult\u001b[49m\u001b[43m)\u001b[49m\n\u001b[1;32m      4\u001b[0m df_lines_omero \u001b[38;5;241m=\u001b[39m get_info_roi_lines(shapes_line)\n",
      "File \u001b[0;32m~/projects/OMERO-metrics/omero_metrics/tools/data_preperation.py:57\u001b[0m, in \u001b[0;36mget_rois_omero\u001b[0;34m(result)\u001b[0m\n\u001b[1;32m     55\u001b[0m shape \u001b[38;5;241m=\u001b[39m {}\n\u001b[1;32m     56\u001b[0m shape[\u001b[38;5;124m\"\u001b[39m\u001b[38;5;124mid\u001b[39m\u001b[38;5;124m\"\u001b[39m] \u001b[38;5;241m=\u001b[39m s\u001b[38;5;241m.\u001b[39mgetId()\u001b[38;5;241m.\u001b[39mgetValue()\n\u001b[0;32m---> 57\u001b[0m shape[\u001b[38;5;124m\"\u001b[39m\u001b[38;5;124mtheT\u001b[39m\u001b[38;5;124m\"\u001b[39m] \u001b[38;5;241m=\u001b[39m \u001b[43ms\u001b[49m\u001b[38;5;241;43m.\u001b[39;49m\u001b[43mgetTheT\u001b[49m\u001b[43m(\u001b[49m\u001b[43m)\u001b[49m\u001b[38;5;241;43m.\u001b[39;49m\u001b[43mgetValue\u001b[49m()\n\u001b[1;32m     58\u001b[0m shape[\u001b[38;5;124m\"\u001b[39m\u001b[38;5;124mtheZ\u001b[39m\u001b[38;5;124m\"\u001b[39m] \u001b[38;5;241m=\u001b[39m s\u001b[38;5;241m.\u001b[39mgetTheZ()\u001b[38;5;241m.\u001b[39mgetValue()\n\u001b[1;32m     59\u001b[0m \u001b[38;5;28;01mif\u001b[39;00m s\u001b[38;5;241m.\u001b[39mgetTextValue():\n",
      "\u001b[0;31mAttributeError\u001b[0m: 'NoneType' object has no attribute 'getValue'"
     ]
    }
   ],
   "source": [
    "roi_service = conn.getRoiService()\n",
    "result = roi_service.findByImage(int(3), None, conn.SERVICE_OPTS)\n",
    "shapes_rectangle, shapes_line = get_rois_omero(result)\n",
    "df_lines_omero = get_info_roi_lines(shapes_line)"
   ]
  },
  {
   "cell_type": "code",
   "execution_count": 67,
   "metadata": {},
   "outputs": [
    {
     "name": "stdout",
     "output_type": "stream",
     "text": [
      "------------------------------microscope_1----------------------------------\n",
      "Field Illumination 60x 1\n",
      "Field Illumination 10x 2\n",
      "PSF beads 60x 3\n",
      "------------------------------microscope_2----------------------------------\n",
      "Field Illumination 40x 4\n",
      "Field Illumination 20x 5\n",
      "PSF beads 40x 6\n"
     ]
    }
   ],
   "source": [
    "for i in conn.listOwnedGroups():\n",
    "    print(f'------------------------------{i.getName()}----------------------------------')\n",
    "    conn.SERVICE_OPTS.setOmeroGroup(i.getId())\n",
    "    for project in conn.getObjects(\"Project\"):\n",
    "        print(project.getName(), project.getId())"
   ]
  },
  {
   "cell_type": "code",
   "execution_count": 59,
   "metadata": {},
   "outputs": [],
   "source": [
    "\n",
    "shapes_line = {}\n",
    "shapes_rectangle = {}\n",
    "for roi in result.rois:\n",
    "    for s in roi.copyShapes():\n",
    "        shape = {}\n",
    "        shape[\"id\"] = s.getId().getValue()\n",
    "        if s.getTextValue():\n",
    "            shape[\"textValue\"] = s.getTextValue().getValue()\n",
    "        if s.__class__.__name__ == \"RectangleI\":\n",
    "            shape[\"type\"] = \"Rectangle\"\n",
    "            shape[\"x\"] = s.getX().getValue()\n",
    "            shape[\"y\"] = s.getY().getValue()\n",
    "            shape[\"w\"] = s.getWidth().getValue()\n",
    "            shape[\"h\"] = s.getHeight().getValue()\n",
    "            shapes_rectangle[s.getId().getValue()] = shape\n",
    "        elif s.__class__.__name__ == \"LineI\":\n",
    "            shape[\"type\"] = \"Line\"\n",
    "            shape[\"x1\"] = s.getX1().getValue()\n",
    "            shape[\"x2\"] = s.getX2().getValue()\n",
    "            shape[\"y1\"] = s.getY1().getValue()\n",
    "            shape[\"y2\"] = s.getY2().getValue()\n",
    "            shapes_line[s.getId().getValue()] = shape\n",
    "        elif s.__class__.__name__ == \"PolygonI\":\n",
    "            continue\n"
   ]
  },
  {
   "cell_type": "code",
   "execution_count": 28,
   "metadata": {},
   "outputs": [],
   "source": [
    "g = conn.listProjects()"
   ]
  },
  {
   "cell_type": "code",
   "execution_count": 47,
   "metadata": {},
   "outputs": [
    {
     "name": "stdout",
     "output_type": "stream",
     "text": [
      "Field Illumination 60x 1\n",
      "Field Illumination 10x 2\n",
      "Field Illumination 40x 4\n",
      "Field Illumination 20x 5\n",
      "PSF beads 60x 3\n",
      "PSF beads 40x 6\n"
     ]
    }
   ],
   "source": [
    "for project in conn.getObjects(\"Project\", opts={'group': 4}):\n",
    "    print(project.getName(), project.getId())"
   ]
  },
  {
   "cell_type": "code",
   "execution_count": null,
   "metadata": {},
   "outputs": [],
   "source": [
    "def get_data_ids(conn):\n",
    "    for i in conn.listOwnedGroups():\n",
    "        conn.SERVICE_OPTS.setOmeroGroup(i.getId())\n",
    "        for project in conn.getObjects(\"Project\"):\n",
    "            print(project.getName(), project.getId())"
   ]
  },
  {
   "cell_type": "code",
   "execution_count": 68,
   "metadata": {},
   "outputs": [
    {
     "name": "stdout",
     "output_type": "stream",
     "text": [
      "FI_60x_DAPI_2021-02-01 1\n",
      "FI_60x_FITC_2021-02-01 2\n",
      "FI_60x_TRITC_CY5_2021-02-01 3\n",
      "FI_60x_DAPI_2021-03-01 4\n",
      "FI_60x_FITC_2021-03-01 5\n",
      "FI_60x_TRITC_CY5_2021-03-01 6\n",
      "FI_10x_DAPI_2021-03-04 7\n",
      "FI_10x_FITC_2021-03-04 8\n",
      "FI_10x_TRITC_CY5_2021-03-04 9\n",
      "FI_10x_DAPI_2021-05-04 10\n",
      "FI_10x_FITC_2021-05-04 11\n",
      "FI_10x_TRITC_CY5_2021-05-04 12\n",
      "FI_10x_DAPI_2021-07-04 13\n",
      "FI_10x_FITC_2021-07-04 14\n",
      "FI_10x_TRITC_CY5_2021-07-04 15\n",
      "FI_10x_DAPI_2021-09-04 16\n",
      "FI_10x_FITC_2021-09-04 17\n",
      "FI_10x_TRITC_CY5_2021-09-04 18\n",
      "FI_60x_DAPI_2021-02-01 21\n",
      "FI_60x_FITC_2021-02-01 22\n",
      "FI_60x_TRITC_CY5_2021-02-01 23\n",
      "FI_60x_DAPI_2021-03-01 24\n",
      "FI_60x_FITC_2021-03-01 25\n",
      "FI_60x_TRITC_CY5_2021-03-01 26\n",
      "FI_10x_DAPI_2021-03-04 27\n",
      "FI_10x_FITC_2021-03-04 28\n",
      "FI_10x_TRITC_CY5_2021-03-04 29\n",
      "FI_10x_DAPI_2021-05-04 30\n",
      "FI_10x_FITC_2021-05-04 31\n",
      "FI_10x_TRITC_CY5_2021-05-04 32\n",
      "FI_10x_DAPI_2021-07-04 33\n",
      "FI_10x_FITC_2021-07-04 34\n",
      "FI_10x_TRITC_CY5_2021-07-04 35\n",
      "FI_10x_DAPI_2021-09-04 36\n",
      "FI_10x_FITC_2021-09-04 37\n",
      "FI_10x_TRITC_CY5_2021-09-04 38\n",
      "PSF-beads_60x_2021-02-01 19\n",
      "PSF-beads_60x_2021-03-01 20\n",
      "PSF-beads_60x_2021-02-01 39\n",
      "PSF-beads_60x_2021-03-01 40\n"
     ]
    }
   ],
   "source": [
    "conn.SERVICE_OPTS.setOmeroGroup(-1)\n",
    "for image in conn.getObjects(\"Image\"):\n",
    "    print(image.getName(), image.getId())"
   ]
  },
  {
   "cell_type": "code",
   "execution_count": 5,
   "metadata": {},
   "outputs": [],
   "source": [
    "dataset_4 = conn.getObject(\"Dataset\", 52)\n",
    "dataset_6 = conn.getObject(\"Dataset\", 6)\n"
   ]
  },
  {
   "cell_type": "code",
   "execution_count": 6,
   "metadata": {},
   "outputs": [
    {
     "data": {
      "text/plain": [
       "<MapAnnotationWrapper id=54>"
      ]
     },
     "execution_count": 6,
     "metadata": {},
     "output_type": "execute_result"
    }
   ],
   "source": [
    "dataset_4.getAnnotation()"
   ]
  },
  {
   "cell_type": "code",
   "execution_count": 34,
   "metadata": {},
   "outputs": [
    {
     "data": {
      "text/plain": [
       "{'TagAnnotation': 0,\n",
       " 'FileAnnotation': 0,\n",
       " 'CommentAnnotation': 0,\n",
       " 'LongAnnotation': 0,\n",
       " 'MapAnnotation': 2,\n",
       " 'OtherAnnotation': 0}"
      ]
     },
     "execution_count": 34,
     "metadata": {},
     "output_type": "execute_result"
    }
   ],
   "source": [
    "dataset_4.getAnnotationCounts()"
   ]
  },
  {
   "cell_type": "code",
   "execution_count": 35,
   "metadata": {},
   "outputs": [],
   "source": [
    "an= conn.getObject(\"MapAnnotation\", 6)\n"
   ]
  },
  {
   "cell_type": "code",
   "execution_count": 36,
   "metadata": {},
   "outputs": [
    {
     "name": "stdout",
     "output_type": "stream",
     "text": [
      "Found Annotation with namespace:  https://w3id.org/MontpellierRessourcesImagerie/microscopemetrics-schema/FieldIlluminationInput\n"
     ]
    }
   ],
   "source": [
    "ann = dataset_4.getAnnotation()\n",
    "print(\"Found Annotation with namespace: \", ann.getNs())"
   ]
  },
  {
   "cell_type": "code",
   "execution_count": 40,
   "metadata": {},
   "outputs": [
    {
     "name": "stdout",
     "output_type": "stream",
     "text": [
      "Found Annotation with namespace:  https://w3id.org/MontpellierRessourcesImagerie/microscopemetrics-schema/FieldIlluminationInput\n"
     ]
    }
   ],
   "source": [
    "ann = dataset_4.getAnnotation()\n",
    "print(\"Found Annotation with namespace: \", ann.getNs())"
   ]
  },
  {
   "cell_type": "code",
   "execution_count": 64,
   "metadata": {},
   "outputs": [],
   "source": [
    "def get_dataset_ids_lists(conn, project_id):\n",
    "    \"\"\"\n",
    "    Get the processed and unprocessed dataset ids for a project\n",
    "    \"\"\"\n",
    "    processed_datasets = []\n",
    "    unprocessed_datasets = []\n",
    "    project = conn.getObject(\"Project\", project_id)\n",
    "    for dataset in project.listChildren():\n",
    "        try:\n",
    "            dataset.getAnnotation().getNs()\n",
    "            processed_datasets.append(dataset.getId())\n",
    "        except AttributeError:\n",
    "            unprocessed_datasets.append(dataset.getId())\n",
    "    return processed_datasets, unprocessed_datasets"
   ]
  },
  {
   "cell_type": "code",
   "execution_count": 65,
   "metadata": {},
   "outputs": [],
   "source": [
    "l, n = get_dataset_ids_lists(conn, 3)"
   ]
  },
  {
   "cell_type": "code",
   "execution_count": 67,
   "metadata": {},
   "outputs": [],
   "source": [
    "cxt = {'processed_datasets': l, 'unprocessed_datasets': n}"
   ]
  },
  {
   "cell_type": "code",
   "execution_count": 69,
   "metadata": {},
   "outputs": [
    {
     "data": {
      "text/plain": [
       "[4, 5]"
      ]
     },
     "execution_count": 69,
     "metadata": {},
     "output_type": "execute_result"
    }
   ],
   "source": [
    "cxt[\"processed_datasets\"]"
   ]
  },
  {
   "cell_type": "code",
   "execution_count": null,
   "metadata": {},
   "outputs": [],
   "source": [
    "def get_map_annotation(dataset_wrapper, conn):\n",
    "    df = None\n",
    "    for i in dataset_wrapper.listAnnotations():\n",
    "        if i.__class__.__name__ == \"MapAnnotationWrapper\":\n",
    "            keyPairs = conn.getObject(\"MapAnnotation\", i.getId())\n",
    "            table = dict(keyPairs.getValue())\n",
    "            df = pd.DataFrame(table.items(), columns=[\"Key\", \"Value\"])\n",
    "    return df\n"
   ]
  },
  {
   "cell_type": "code",
   "execution_count": 34,
   "metadata": {},
   "outputs": [],
   "source": [
    "def get_dataset_mapAnnotation(conn, dataset_id):\n",
    "    \"\"\"\n",
    "    Get the mapAnnotation for a dataset\n",
    "    \"\"\"\n",
    "    dataset = conn.getObject(\"Dataset\", dataset_id)\n",
    "    try:\n",
    "        for i in dataset.listAnnotations():\n",
    "            if \"FieldIlluminationKeyValues\" in i.getNs():\n",
    "                table = dict(i.getValue())\n",
    "                df = pd.DataFrame(table.items(), columns=[\"Key\", \"Value\"])\n",
    "                break\n",
    "        return df\n",
    "    except:\n",
    "        return None"
   ]
  },
  {
   "cell_type": "code",
   "execution_count": 38,
   "metadata": {},
   "outputs": [
    {
     "data": {
      "text/html": [
       "<div>\n",
       "<style scoped>\n",
       "    .dataframe tbody tr th:only-of-type {\n",
       "        vertical-align: middle;\n",
       "    }\n",
       "\n",
       "    .dataframe tbody tr th {\n",
       "        vertical-align: top;\n",
       "    }\n",
       "\n",
       "    .dataframe thead th {\n",
       "        text-align: right;\n",
       "    }\n",
       "</style>\n",
       "<table border=\"1\" class=\"dataframe\">\n",
       "  <thead>\n",
       "    <tr style=\"text-align: right;\">\n",
       "      <th></th>\n",
       "      <th>Key</th>\n",
       "      <th>Value</th>\n",
       "    </tr>\n",
       "  </thead>\n",
       "  <tbody>\n",
       "    <tr>\n",
       "      <th>0</th>\n",
       "      <td>name</td>\n",
       "      <td>null</td>\n",
       "    </tr>\n",
       "    <tr>\n",
       "      <th>1</th>\n",
       "      <td>description</td>\n",
       "      <td>null</td>\n",
       "    </tr>\n",
       "    <tr>\n",
       "      <th>2</th>\n",
       "      <td>data_reference</td>\n",
       "      <td>null</td>\n",
       "    </tr>\n",
       "    <tr>\n",
       "      <th>3</th>\n",
       "      <td>linked_references</td>\n",
       "      <td>[]</td>\n",
       "    </tr>\n",
       "    <tr>\n",
       "      <th>4</th>\n",
       "      <td>channel_name</td>\n",
       "      <td>[\"DAPI\", \"FITC\", \"TRITC\", \"CY5\"]</td>\n",
       "    </tr>\n",
       "    <tr>\n",
       "      <th>5</th>\n",
       "      <td>center_region_intensity_fraction</td>\n",
       "      <td>[0.05, 0.05, 0.05, 0.05]</td>\n",
       "    </tr>\n",
       "    <tr>\n",
       "      <th>6</th>\n",
       "      <td>center_region_area_fraction</td>\n",
       "      <td>[0.14889144897460938, 0.13515090942382812, 0.1...</td>\n",
       "    </tr>\n",
       "    <tr>\n",
       "      <th>7</th>\n",
       "      <td>center_of_mass_y</td>\n",
       "      <td>[294.9974891752709, 245.00832651217928, 206.99...</td>\n",
       "    </tr>\n",
       "    <tr>\n",
       "      <th>8</th>\n",
       "      <td>center_of_mass_y_relative</td>\n",
       "      <td>[0.152333942090902, -0.042936224561799685, -0....</td>\n",
       "    </tr>\n",
       "    <tr>\n",
       "      <th>9</th>\n",
       "      <td>center_of_mass_x</td>\n",
       "      <td>[297.0006917578335, 227.01518530017782, 301.00...</td>\n",
       "    </tr>\n",
       "    <tr>\n",
       "      <th>10</th>\n",
       "      <td>center_of_mass_x_relative</td>\n",
       "      <td>[0.1601589521790372, -0.1132219324211804, 0.17...</td>\n",
       "    </tr>\n",
       "    <tr>\n",
       "      <th>11</th>\n",
       "      <td>center_of_mass_distance_relative</td>\n",
       "      <td>[0.22103511005277285, 0.12108974093955123, 0.2...</td>\n",
       "    </tr>\n",
       "    <tr>\n",
       "      <th>12</th>\n",
       "      <td>center_geometric_y</td>\n",
       "      <td>[294.9974891752709, 245.00832651217928, 206.99...</td>\n",
       "    </tr>\n",
       "    <tr>\n",
       "      <th>13</th>\n",
       "      <td>center_geometric_y_relative</td>\n",
       "      <td>[0.152333942090902, -0.042936224561799685, -0....</td>\n",
       "    </tr>\n",
       "    <tr>\n",
       "      <th>14</th>\n",
       "      <td>center_geometric_x</td>\n",
       "      <td>[297.0006917578335, 227.01518530017782, 301.00...</td>\n",
       "    </tr>\n",
       "    <tr>\n",
       "      <th>15</th>\n",
       "      <td>center_geometric_x_relative</td>\n",
       "      <td>[0.1601589521790372, -0.1132219324211804, 0.17...</td>\n",
       "    </tr>\n",
       "    <tr>\n",
       "      <th>16</th>\n",
       "      <td>center_geometric_distance_relative</td>\n",
       "      <td>[0.22103511005277285, 0.12108974093955123, 0.2...</td>\n",
       "    </tr>\n",
       "    <tr>\n",
       "      <th>17</th>\n",
       "      <td>center_fitted_y</td>\n",
       "      <td>[295.00233449510364, 245.00997580093392, 206.9...</td>\n",
       "    </tr>\n",
       "    <tr>\n",
       "      <th>18</th>\n",
       "      <td>center_fitted_y_relative</td>\n",
       "      <td>[0.1523528691214986, -0.04292978202760189, -0....</td>\n",
       "    </tr>\n",
       "    <tr>\n",
       "      <th>19</th>\n",
       "      <td>center_fitted_x</td>\n",
       "      <td>[297.0007316367054, 226.99221300157095, 301.00...</td>\n",
       "    </tr>\n",
       "    <tr>\n",
       "      <th>20</th>\n",
       "      <td>center_fitted_x_relative</td>\n",
       "      <td>[0.1601591079558804, -0.1133116679626135, 0.17...</td>\n",
       "    </tr>\n",
       "    <tr>\n",
       "      <th>21</th>\n",
       "      <td>center_fitted_distance_relative</td>\n",
       "      <td>[0.22104826755886559, 0.12117136741576774, 0.2...</td>\n",
       "    </tr>\n",
       "    <tr>\n",
       "      <th>22</th>\n",
       "      <td>max_intensity</td>\n",
       "      <td>[56225.21944565129, 56955.70095438921, 55316.6...</td>\n",
       "    </tr>\n",
       "    <tr>\n",
       "      <th>23</th>\n",
       "      <td>max_intensity_pos_y</td>\n",
       "      <td>[295.0, 245.0, 207.0, 307.0]</td>\n",
       "    </tr>\n",
       "    <tr>\n",
       "      <th>24</th>\n",
       "      <td>max_intensity_pos_y_relative</td>\n",
       "      <td>[0.15234375, -0.04296875, -0.19140625, 0.19921...</td>\n",
       "    </tr>\n",
       "    <tr>\n",
       "      <th>25</th>\n",
       "      <td>max_intensity_pos_x</td>\n",
       "      <td>[297.0, 227.0, 301.0, 259.0]</td>\n",
       "    </tr>\n",
       "    <tr>\n",
       "      <th>26</th>\n",
       "      <td>max_intensity_pos_x_relative</td>\n",
       "      <td>[0.16015625, -0.11328125, 0.17578125, 0.01171875]</td>\n",
       "    </tr>\n",
       "    <tr>\n",
       "      <th>27</th>\n",
       "      <td>max_intensity_distance_relative</td>\n",
       "      <td>[0.22103991173117357, 0.1211567376505533, 0.25...</td>\n",
       "    </tr>\n",
       "    <tr>\n",
       "      <th>28</th>\n",
       "      <td>top_left_intensity_mean</td>\n",
       "      <td>[29434.39100346021, 37564.66474432911, 37902.8...</td>\n",
       "    </tr>\n",
       "    <tr>\n",
       "      <th>29</th>\n",
       "      <td>top_left_intensity_ratio</td>\n",
       "      <td>[0.5232036510978031, 0.6588789354064706, 0.684...</td>\n",
       "    </tr>\n",
       "    <tr>\n",
       "      <th>30</th>\n",
       "      <td>top_center_intensity_mean</td>\n",
       "      <td>[41137.5116892911, 47424.45022624434, 42293.15...</td>\n",
       "    </tr>\n",
       "    <tr>\n",
       "      <th>31</th>\n",
       "      <td>top_center_intensity_ratio</td>\n",
       "      <td>[0.7312295440522433, 0.8318181857864757, 0.764...</td>\n",
       "    </tr>\n",
       "    <tr>\n",
       "      <th>32</th>\n",
       "      <td>top_right_intensity_mean</td>\n",
       "      <td>[35170.907843137255, 35785.32, 32155.234509803...</td>\n",
       "    </tr>\n",
       "    <tr>\n",
       "      <th>33</th>\n",
       "      <td>top_right_intensity_ratio</td>\n",
       "      <td>[0.6251716705737362, 0.6276694788907793, 0.580...</td>\n",
       "    </tr>\n",
       "    <tr>\n",
       "      <th>34</th>\n",
       "      <td>middle_left_intensity_mean</td>\n",
       "      <td>[41303.33107088989, 45636.13612368024, 49109.7...</td>\n",
       "    </tr>\n",
       "    <tr>\n",
       "      <th>35</th>\n",
       "      <td>middle_left_intensity_ratio</td>\n",
       "      <td>[0.7341770249722687, 0.8004514079890593, 0.887...</td>\n",
       "    </tr>\n",
       "    <tr>\n",
       "      <th>36</th>\n",
       "      <td>middle_center_intensity_mean</td>\n",
       "      <td>[55423.380177514795, 56634.55473372781, 54440....</td>\n",
       "    </tr>\n",
       "    <tr>\n",
       "      <th>37</th>\n",
       "      <td>middle_center_intensity_ratio</td>\n",
       "      <td>[0.9851644242154857, 0.9933621232653572, 0.983...</td>\n",
       "    </tr>\n",
       "    <tr>\n",
       "      <th>38</th>\n",
       "      <td>middle_right_intensity_mean</td>\n",
       "      <td>[48224.565, 43651.96653846154, 42129.845769230...</td>\n",
       "    </tr>\n",
       "    <tr>\n",
       "      <th>39</th>\n",
       "      <td>middle_right_intensity_ratio</td>\n",
       "      <td>[0.8572036865867966, 0.7656493525768077, 0.761...</td>\n",
       "    </tr>\n",
       "    <tr>\n",
       "      <th>40</th>\n",
       "      <td>bottom_left_intensity_mean</td>\n",
       "      <td>[35474.1631372549, 32767.741176470587, 44008.7...</td>\n",
       "    </tr>\n",
       "    <tr>\n",
       "      <th>41</th>\n",
       "      <td>bottom_left_intensity_ratio</td>\n",
       "      <td>[0.6305621091623396, 0.5747415708078962, 0.795...</td>\n",
       "    </tr>\n",
       "    <tr>\n",
       "      <th>42</th>\n",
       "      <td>bottom_center_intensity_mean</td>\n",
       "      <td>[48406.967307692306, 41951.31115384615, 48911....</td>\n",
       "    </tr>\n",
       "    <tr>\n",
       "      <th>43</th>\n",
       "      <td>bottom_center_intensity_ratio</td>\n",
       "      <td>[0.8604459331595916, 0.7358200963612886, 0.883...</td>\n",
       "    </tr>\n",
       "    <tr>\n",
       "      <th>44</th>\n",
       "      <td>bottom_right_intensity_mean</td>\n",
       "      <td>[41813.526, 31110.1048, 37589.84, 36693.0048]</td>\n",
       "    </tr>\n",
       "    <tr>\n",
       "      <th>45</th>\n",
       "      <td>bottom_right_intensity_ratio</td>\n",
       "      <td>[0.7432458672544349, 0.5456668619437672, 0.679...</td>\n",
       "    </tr>\n",
       "  </tbody>\n",
       "</table>\n",
       "</div>"
      ],
      "text/plain": [
       "                                   Key  \\\n",
       "0                                 name   \n",
       "1                          description   \n",
       "2                       data_reference   \n",
       "3                    linked_references   \n",
       "4                         channel_name   \n",
       "5     center_region_intensity_fraction   \n",
       "6          center_region_area_fraction   \n",
       "7                     center_of_mass_y   \n",
       "8            center_of_mass_y_relative   \n",
       "9                     center_of_mass_x   \n",
       "10           center_of_mass_x_relative   \n",
       "11    center_of_mass_distance_relative   \n",
       "12                  center_geometric_y   \n",
       "13         center_geometric_y_relative   \n",
       "14                  center_geometric_x   \n",
       "15         center_geometric_x_relative   \n",
       "16  center_geometric_distance_relative   \n",
       "17                     center_fitted_y   \n",
       "18            center_fitted_y_relative   \n",
       "19                     center_fitted_x   \n",
       "20            center_fitted_x_relative   \n",
       "21     center_fitted_distance_relative   \n",
       "22                       max_intensity   \n",
       "23                 max_intensity_pos_y   \n",
       "24        max_intensity_pos_y_relative   \n",
       "25                 max_intensity_pos_x   \n",
       "26        max_intensity_pos_x_relative   \n",
       "27     max_intensity_distance_relative   \n",
       "28             top_left_intensity_mean   \n",
       "29            top_left_intensity_ratio   \n",
       "30           top_center_intensity_mean   \n",
       "31          top_center_intensity_ratio   \n",
       "32            top_right_intensity_mean   \n",
       "33           top_right_intensity_ratio   \n",
       "34          middle_left_intensity_mean   \n",
       "35         middle_left_intensity_ratio   \n",
       "36        middle_center_intensity_mean   \n",
       "37       middle_center_intensity_ratio   \n",
       "38         middle_right_intensity_mean   \n",
       "39        middle_right_intensity_ratio   \n",
       "40          bottom_left_intensity_mean   \n",
       "41         bottom_left_intensity_ratio   \n",
       "42        bottom_center_intensity_mean   \n",
       "43       bottom_center_intensity_ratio   \n",
       "44         bottom_right_intensity_mean   \n",
       "45        bottom_right_intensity_ratio   \n",
       "\n",
       "                                                Value  \n",
       "0                                                null  \n",
       "1                                                null  \n",
       "2                                                null  \n",
       "3                                                  []  \n",
       "4                    [\"DAPI\", \"FITC\", \"TRITC\", \"CY5\"]  \n",
       "5                            [0.05, 0.05, 0.05, 0.05]  \n",
       "6   [0.14889144897460938, 0.13515090942382812, 0.1...  \n",
       "7   [294.9974891752709, 245.00832651217928, 206.99...  \n",
       "8   [0.152333942090902, -0.042936224561799685, -0....  \n",
       "9   [297.0006917578335, 227.01518530017782, 301.00...  \n",
       "10  [0.1601589521790372, -0.1132219324211804, 0.17...  \n",
       "11  [0.22103511005277285, 0.12108974093955123, 0.2...  \n",
       "12  [294.9974891752709, 245.00832651217928, 206.99...  \n",
       "13  [0.152333942090902, -0.042936224561799685, -0....  \n",
       "14  [297.0006917578335, 227.01518530017782, 301.00...  \n",
       "15  [0.1601589521790372, -0.1132219324211804, 0.17...  \n",
       "16  [0.22103511005277285, 0.12108974093955123, 0.2...  \n",
       "17  [295.00233449510364, 245.00997580093392, 206.9...  \n",
       "18  [0.1523528691214986, -0.04292978202760189, -0....  \n",
       "19  [297.0007316367054, 226.99221300157095, 301.00...  \n",
       "20  [0.1601591079558804, -0.1133116679626135, 0.17...  \n",
       "21  [0.22104826755886559, 0.12117136741576774, 0.2...  \n",
       "22  [56225.21944565129, 56955.70095438921, 55316.6...  \n",
       "23                       [295.0, 245.0, 207.0, 307.0]  \n",
       "24  [0.15234375, -0.04296875, -0.19140625, 0.19921...  \n",
       "25                       [297.0, 227.0, 301.0, 259.0]  \n",
       "26  [0.16015625, -0.11328125, 0.17578125, 0.01171875]  \n",
       "27  [0.22103991173117357, 0.1211567376505533, 0.25...  \n",
       "28  [29434.39100346021, 37564.66474432911, 37902.8...  \n",
       "29  [0.5232036510978031, 0.6588789354064706, 0.684...  \n",
       "30  [41137.5116892911, 47424.45022624434, 42293.15...  \n",
       "31  [0.7312295440522433, 0.8318181857864757, 0.764...  \n",
       "32  [35170.907843137255, 35785.32, 32155.234509803...  \n",
       "33  [0.6251716705737362, 0.6276694788907793, 0.580...  \n",
       "34  [41303.33107088989, 45636.13612368024, 49109.7...  \n",
       "35  [0.7341770249722687, 0.8004514079890593, 0.887...  \n",
       "36  [55423.380177514795, 56634.55473372781, 54440....  \n",
       "37  [0.9851644242154857, 0.9933621232653572, 0.983...  \n",
       "38  [48224.565, 43651.96653846154, 42129.845769230...  \n",
       "39  [0.8572036865867966, 0.7656493525768077, 0.761...  \n",
       "40  [35474.1631372549, 32767.741176470587, 44008.7...  \n",
       "41  [0.6305621091623396, 0.5747415708078962, 0.795...  \n",
       "42  [48406.967307692306, 41951.31115384615, 48911....  \n",
       "43  [0.8604459331595916, 0.7358200963612886, 0.883...  \n",
       "44      [41813.526, 31110.1048, 37589.84, 36693.0048]  \n",
       "45  [0.7432458672544349, 0.5456668619437672, 0.679...  "
      ]
     },
     "execution_count": 38,
     "metadata": {},
     "output_type": "execute_result"
    }
   ],
   "source": [
    "get_dataset_mapAnnotation(conn, 52)"
   ]
  },
  {
   "cell_type": "code",
   "execution_count": 41,
   "metadata": {},
   "outputs": [
    {
     "ename": "AttributeError",
     "evalue": "'function' object has no attribute 'getValue'",
     "output_type": "error",
     "traceback": [
      "\u001b[0;31m---------------------------------------------------------------------------\u001b[0m",
      "\u001b[0;31mAttributeError\u001b[0m                            Traceback (most recent call last)",
      "Cell \u001b[0;32mIn[41], line 2\u001b[0m\n\u001b[1;32m      1\u001b[0m \u001b[38;5;28;01mfor\u001b[39;00m i \u001b[38;5;129;01min\u001b[39;00m dataset_4\u001b[38;5;241m.\u001b[39mlistAnnotations():\n\u001b[0;32m----> 2\u001b[0m     \u001b[38;5;28mprint\u001b[39m(\u001b[43mi\u001b[49m\u001b[38;5;241;43m.\u001b[39;49m\u001b[43mgetNs\u001b[49m\u001b[38;5;241;43m.\u001b[39;49m\u001b[43mgetValue\u001b[49m())\n",
      "\u001b[0;31mAttributeError\u001b[0m: 'function' object has no attribute 'getValue'"
     ]
    }
   ],
   "source": [
    "for i in dataset_4.listAnnotations():\n",
    "    print(i.getNs.getValue())"
   ]
  },
  {
   "cell_type": "code",
   "execution_count": 16,
   "metadata": {},
   "outputs": [],
   "source": [
    "import pandas as pd"
   ]
  },
  {
   "cell_type": "code",
   "execution_count": 96,
   "metadata": {},
   "outputs": [
    {
     "data": {
      "text/plain": [
       "array([3, 6, 9])"
      ]
     },
     "execution_count": 96,
     "metadata": {},
     "output_type": "execute_result"
    }
   ],
   "source": [
    "a = np.arange(12).reshape(3, 4)\n",
    "np.fliplr(a).diagonal()  # Horizontal flip\n"
   ]
  },
  {
   "cell_type": "code",
   "execution_count": 65,
   "metadata": {},
   "outputs": [],
   "source": [
    "import numpy as np"
   ]
  },
  {
   "cell_type": "code",
   "execution_count": 73,
   "metadata": {},
   "outputs": [
    {
     "ename": "AttributeError",
     "evalue": "module 'numpy' has no attribute 'fliprl'",
     "output_type": "error",
     "traceback": [
      "\u001b[0;31m---------------------------------------------------------------------------\u001b[0m",
      "\u001b[0;31mAttributeError\u001b[0m                            Traceback (most recent call last)",
      "Cell \u001b[0;32mIn[73], line 1\u001b[0m\n\u001b[0;32m----> 1\u001b[0m \u001b[43mnp\u001b[49m\u001b[38;5;241;43m.\u001b[39;49m\u001b[43mfliprl\u001b[49m(a)\u001b[38;5;241m.\u001b[39mdiagonal()  \u001b[38;5;66;03m# Vertical flip\u001b[39;00m\n",
      "File \u001b[0;32m~/projects/OMERO-metrics/.venv/lib/python3.11/site-packages/numpy/__init__.py:333\u001b[0m, in \u001b[0;36m__getattr__\u001b[0;34m(attr)\u001b[0m\n\u001b[1;32m    330\u001b[0m     \u001b[38;5;124m\"\u001b[39m\u001b[38;5;124mRemoved in NumPy 1.25.0\u001b[39m\u001b[38;5;124m\"\u001b[39m\n\u001b[1;32m    331\u001b[0m     \u001b[38;5;28;01mraise\u001b[39;00m \u001b[38;5;167;01mRuntimeError\u001b[39;00m(\u001b[38;5;124m\"\u001b[39m\u001b[38;5;124mTester was removed in NumPy 1.25.\u001b[39m\u001b[38;5;124m\"\u001b[39m)\n\u001b[0;32m--> 333\u001b[0m \u001b[38;5;28;01mraise\u001b[39;00m \u001b[38;5;167;01mAttributeError\u001b[39;00m(\u001b[38;5;124m\"\u001b[39m\u001b[38;5;124mmodule \u001b[39m\u001b[38;5;132;01m{!r}\u001b[39;00m\u001b[38;5;124m has no attribute \u001b[39m\u001b[38;5;124m\"\u001b[39m\n\u001b[1;32m    334\u001b[0m                      \u001b[38;5;124m\"\u001b[39m\u001b[38;5;132;01m{!r}\u001b[39;00m\u001b[38;5;124m\"\u001b[39m\u001b[38;5;241m.\u001b[39mformat(\u001b[38;5;18m__name__\u001b[39m, attr))\n",
      "\u001b[0;31mAttributeError\u001b[0m: module 'numpy' has no attribute 'fliprl'"
     ]
    }
   ],
   "source": [
    "np.fliprl(a).diagonal()  # Vertical flip\n"
   ]
  },
  {
   "cell_type": "code",
   "execution_count": 97,
   "metadata": {},
   "outputs": [
    {
     "name": "stdout",
     "output_type": "stream",
     "text": [
      "[0 4 8]\n",
      "[ 3  7 11]\n",
      "[ 0  5 10]\n",
      "[3 6 9]\n"
     ]
    }
   ],
   "source": [
    "b = np.flip(a, axis=1)\n",
    "print(b[:,-1])\n",
    "print(b[:,0])\n",
    "print(np.fliplr(b).diagonal())\n",
    "print(np.fliplr(a).diagonal())"
   ]
  },
  {
   "cell_type": "code",
   "execution_count": 79,
   "metadata": {},
   "outputs": [
    {
     "data": {
      "text/plain": [
       "array([0, 4, 8])"
      ]
     },
     "execution_count": 79,
     "metadata": {},
     "output_type": "execute_result"
    }
   ],
   "source": [
    "np.fliplr(b).diagonal()"
   ]
  },
  {
   "cell_type": "code",
   "execution_count": 87,
   "metadata": {},
   "outputs": [
    {
     "data": {
      "text/plain": [
       "array([0, 3, 6])"
      ]
     },
     "execution_count": 87,
     "metadata": {},
     "output_type": "execute_result"
    }
   ],
   "source": [
    "b[:,-1]"
   ]
  },
  {
   "cell_type": "code",
   "execution_count": 98,
   "metadata": {},
   "outputs": [
    {
     "data": {
      "text/plain": [
       "array([[ 3,  2,  1,  0],\n",
       "       [ 7,  6,  5,  4],\n",
       "       [11, 10,  9,  8]])"
      ]
     },
     "execution_count": 98,
     "metadata": {},
     "output_type": "execute_result"
    }
   ],
   "source": [
    "b"
   ]
  },
  {
   "cell_type": "code",
   "execution_count": 93,
   "metadata": {},
   "outputs": [
    {
     "ename": "ImportError",
     "evalue": "attempted relative import with no known parent package",
     "output_type": "error",
     "traceback": [
      "\u001b[0;31m---------------------------------------------------------------------------\u001b[0m",
      "\u001b[0;31mImportError\u001b[0m                               Traceback (most recent call last)",
      "Cell \u001b[0;32mIn[93], line 1\u001b[0m\n\u001b[0;32m----> 1\u001b[0m \u001b[38;5;28;01mfrom\u001b[39;00m \u001b[38;5;21;01m.\u001b[39;00m\u001b[38;5;21;01mload\u001b[39;00m \u001b[38;5;28;01mimport\u001b[39;00m \u001b[38;5;241m*\u001b[39m\n",
      "\u001b[0;31mImportError\u001b[0m: attempted relative import with no known parent package"
     ]
    }
   ],
   "source": [
    "from .load import *"
   ]
  },
  {
   "cell_type": "code",
   "execution_count": null,
   "metadata": {},
   "outputs": [],
   "source": []
  }
 ],
 "metadata": {
  "kernelspec": {
   "display_name": ".venv",
   "language": "python",
   "name": "python3"
  },
  "language_info": {
   "codemirror_mode": {
    "name": "ipython",
    "version": 3
   },
   "file_extension": ".py",
   "mimetype": "text/x-python",
   "name": "python",
   "nbconvert_exporter": "python",
   "pygments_lexer": "ipython3",
   "version": "3.11.6"
  }
 },
 "nbformat": 4,
 "nbformat_minor": 2
}
